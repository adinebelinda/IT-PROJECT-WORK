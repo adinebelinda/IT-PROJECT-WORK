{
 "cells": [
  {
   "cell_type": "code",
   "execution_count": 80,
   "metadata": {},
   "outputs": [],
   "source": [
    "import numpy as np\n",
    "import pandas as pd\n",
    "from sklearn.model_selection import train_test_split\n",
    "from sklearn.metrics import mean_squared_error\n",
    "from sklearn.metrics import accuracy_score\n",
    "from sklearn.linear_model import LinearRegression\n",
    "from sklearn.tree import DecisionTreeRegressor\n",
    "from sklearn.tree import export_text\n",
    "from math import sqrt\n",
    "import seaborn as sns\n",
    "import graphviz\n",
    "from graphviz import Source\n",
    "from sklearn import tree\n",
    "import os\n",
    "os.environ[\"PATH\"] += os.pathsep + 'C:\\Program Files (x86)/Graphviz2.38/bin/'\n",
    "import warnings\n",
    "warnings.filterwarnings('ignore')"
   ]
  },
  {
   "cell_type": "code",
   "execution_count": 3,
   "metadata": {},
   "outputs": [
    {
     "name": "stdout",
     "output_type": "stream",
     "text": [
      "File directory: ./Documents/winequality-red.csv\n"
     ]
    }
   ],
   "source": [
    "DIR = './Documents'\n",
    "FILE = '/winequality-red.csv'\n",
    "\n",
    "file = '{}{}'.format(DIR,FILE)\n",
    "\n",
    "print('File directory: {}'.format(file))"
   ]
  },
  {
   "cell_type": "code",
   "execution_count": 4,
   "metadata": {},
   "outputs": [],
   "source": [
    "data = pd.read_csv('./Documents/winequality-red.csv')"
   ]
  },
  {
   "cell_type": "code",
   "execution_count": 5,
   "metadata": {
    "scrolled": true
   },
   "outputs": [
    {
     "data": {
      "text/html": [
       "<div>\n",
       "<style scoped>\n",
       "    .dataframe tbody tr th:only-of-type {\n",
       "        vertical-align: middle;\n",
       "    }\n",
       "\n",
       "    .dataframe tbody tr th {\n",
       "        vertical-align: top;\n",
       "    }\n",
       "\n",
       "    .dataframe thead th {\n",
       "        text-align: right;\n",
       "    }\n",
       "</style>\n",
       "<table border=\"1\" class=\"dataframe\">\n",
       "  <thead>\n",
       "    <tr style=\"text-align: right;\">\n",
       "      <th></th>\n",
       "      <th>fixed acidity</th>\n",
       "      <th>volatile acidity</th>\n",
       "      <th>citric acid</th>\n",
       "      <th>residual sugar</th>\n",
       "      <th>chlorides</th>\n",
       "      <th>free sulfur dioxide</th>\n",
       "      <th>total sulfur dioxide</th>\n",
       "      <th>density</th>\n",
       "      <th>pH</th>\n",
       "      <th>sulphates</th>\n",
       "      <th>alcohol</th>\n",
       "      <th>quality</th>\n",
       "    </tr>\n",
       "  </thead>\n",
       "  <tbody>\n",
       "    <tr>\n",
       "      <th>0</th>\n",
       "      <td>7.4</td>\n",
       "      <td>0.70</td>\n",
       "      <td>0.00</td>\n",
       "      <td>1.9</td>\n",
       "      <td>0.076</td>\n",
       "      <td>11.0</td>\n",
       "      <td>34.0</td>\n",
       "      <td>0.9978</td>\n",
       "      <td>3.51</td>\n",
       "      <td>0.56</td>\n",
       "      <td>9.4</td>\n",
       "      <td>5</td>\n",
       "    </tr>\n",
       "    <tr>\n",
       "      <th>1</th>\n",
       "      <td>7.8</td>\n",
       "      <td>0.88</td>\n",
       "      <td>0.00</td>\n",
       "      <td>2.6</td>\n",
       "      <td>0.098</td>\n",
       "      <td>25.0</td>\n",
       "      <td>67.0</td>\n",
       "      <td>0.9968</td>\n",
       "      <td>3.20</td>\n",
       "      <td>0.68</td>\n",
       "      <td>9.8</td>\n",
       "      <td>5</td>\n",
       "    </tr>\n",
       "    <tr>\n",
       "      <th>2</th>\n",
       "      <td>7.8</td>\n",
       "      <td>0.76</td>\n",
       "      <td>0.04</td>\n",
       "      <td>2.3</td>\n",
       "      <td>0.092</td>\n",
       "      <td>15.0</td>\n",
       "      <td>54.0</td>\n",
       "      <td>0.9970</td>\n",
       "      <td>3.26</td>\n",
       "      <td>0.65</td>\n",
       "      <td>9.8</td>\n",
       "      <td>5</td>\n",
       "    </tr>\n",
       "    <tr>\n",
       "      <th>3</th>\n",
       "      <td>11.2</td>\n",
       "      <td>0.28</td>\n",
       "      <td>0.56</td>\n",
       "      <td>1.9</td>\n",
       "      <td>0.075</td>\n",
       "      <td>17.0</td>\n",
       "      <td>60.0</td>\n",
       "      <td>0.9980</td>\n",
       "      <td>3.16</td>\n",
       "      <td>0.58</td>\n",
       "      <td>9.8</td>\n",
       "      <td>6</td>\n",
       "    </tr>\n",
       "    <tr>\n",
       "      <th>4</th>\n",
       "      <td>7.4</td>\n",
       "      <td>0.70</td>\n",
       "      <td>0.00</td>\n",
       "      <td>1.9</td>\n",
       "      <td>0.076</td>\n",
       "      <td>11.0</td>\n",
       "      <td>34.0</td>\n",
       "      <td>0.9978</td>\n",
       "      <td>3.51</td>\n",
       "      <td>0.56</td>\n",
       "      <td>9.4</td>\n",
       "      <td>5</td>\n",
       "    </tr>\n",
       "  </tbody>\n",
       "</table>\n",
       "</div>"
      ],
      "text/plain": [
       "   fixed acidity  volatile acidity  citric acid  residual sugar  chlorides  \\\n",
       "0            7.4              0.70         0.00             1.9      0.076   \n",
       "1            7.8              0.88         0.00             2.6      0.098   \n",
       "2            7.8              0.76         0.04             2.3      0.092   \n",
       "3           11.2              0.28         0.56             1.9      0.075   \n",
       "4            7.4              0.70         0.00             1.9      0.076   \n",
       "\n",
       "   free sulfur dioxide  total sulfur dioxide  density    pH  sulphates  \\\n",
       "0                 11.0                  34.0   0.9978  3.51       0.56   \n",
       "1                 25.0                  67.0   0.9968  3.20       0.68   \n",
       "2                 15.0                  54.0   0.9970  3.26       0.65   \n",
       "3                 17.0                  60.0   0.9980  3.16       0.58   \n",
       "4                 11.0                  34.0   0.9978  3.51       0.56   \n",
       "\n",
       "   alcohol  quality  \n",
       "0      9.4        5  \n",
       "1      9.8        5  \n",
       "2      9.8        5  \n",
       "3      9.8        6  \n",
       "4      9.4        5  "
      ]
     },
     "execution_count": 5,
     "metadata": {},
     "output_type": "execute_result"
    }
   ],
   "source": [
    "data.head()"
   ]
  },
  {
   "cell_type": "code",
   "execution_count": 6,
   "metadata": {},
   "outputs": [
    {
     "data": {
      "text/plain": [
       "count    1599.000000\n",
       "mean        5.636023\n",
       "std         0.807569\n",
       "min         3.000000\n",
       "25%         5.000000\n",
       "50%         6.000000\n",
       "75%         6.000000\n",
       "max         8.000000\n",
       "Name: quality, dtype: float64"
      ]
     },
     "execution_count": 6,
     "metadata": {},
     "output_type": "execute_result"
    }
   ],
   "source": [
    "data['quality'].describe()"
   ]
  },
  {
   "cell_type": "code",
   "execution_count": 7,
   "metadata": {},
   "outputs": [
    {
     "data": {
      "text/plain": [
       "(1599, 12)"
      ]
     },
     "execution_count": 7,
     "metadata": {},
     "output_type": "execute_result"
    }
   ],
   "source": [
    "data.shape"
   ]
  },
  {
   "cell_type": "code",
   "execution_count": 8,
   "metadata": {},
   "outputs": [
    {
     "data": {
      "text/plain": [
       "<bound method DataFrame.info of       fixed acidity  volatile acidity  citric acid  residual sugar  chlorides  \\\n",
       "0               7.4             0.700         0.00             1.9      0.076   \n",
       "1               7.8             0.880         0.00             2.6      0.098   \n",
       "2               7.8             0.760         0.04             2.3      0.092   \n",
       "3              11.2             0.280         0.56             1.9      0.075   \n",
       "4               7.4             0.700         0.00             1.9      0.076   \n",
       "...             ...               ...          ...             ...        ...   \n",
       "1594            6.2             0.600         0.08             2.0      0.090   \n",
       "1595            5.9             0.550         0.10             2.2      0.062   \n",
       "1596            6.3             0.510         0.13             2.3      0.076   \n",
       "1597            5.9             0.645         0.12             2.0      0.075   \n",
       "1598            6.0             0.310         0.47             3.6      0.067   \n",
       "\n",
       "      free sulfur dioxide  total sulfur dioxide  density    pH  sulphates  \\\n",
       "0                    11.0                  34.0  0.99780  3.51       0.56   \n",
       "1                    25.0                  67.0  0.99680  3.20       0.68   \n",
       "2                    15.0                  54.0  0.99700  3.26       0.65   \n",
       "3                    17.0                  60.0  0.99800  3.16       0.58   \n",
       "4                    11.0                  34.0  0.99780  3.51       0.56   \n",
       "...                   ...                   ...      ...   ...        ...   \n",
       "1594                 32.0                  44.0  0.99490  3.45       0.58   \n",
       "1595                 39.0                  51.0  0.99512  3.52       0.76   \n",
       "1596                 29.0                  40.0  0.99574  3.42       0.75   \n",
       "1597                 32.0                  44.0  0.99547  3.57       0.71   \n",
       "1598                 18.0                  42.0  0.99549  3.39       0.66   \n",
       "\n",
       "      alcohol  quality  \n",
       "0         9.4        5  \n",
       "1         9.8        5  \n",
       "2         9.8        5  \n",
       "3         9.8        6  \n",
       "4         9.4        5  \n",
       "...       ...      ...  \n",
       "1594     10.5        5  \n",
       "1595     11.2        6  \n",
       "1596     11.0        6  \n",
       "1597     10.2        5  \n",
       "1598     11.0        6  \n",
       "\n",
       "[1599 rows x 12 columns]>"
      ]
     },
     "execution_count": 8,
     "metadata": {},
     "output_type": "execute_result"
    }
   ],
   "source": [
    "data.info"
   ]
  },
  {
   "cell_type": "code",
   "execution_count": 9,
   "metadata": {},
   "outputs": [
    {
     "data": {
      "text/plain": [
       "<matplotlib.axes._subplots.AxesSubplot at 0x1afc4750>"
      ]
     },
     "execution_count": 9,
     "metadata": {},
     "output_type": "execute_result"
    },
    {
     "data": {
      "image/png": "[encoded data removed]",
      "text/plain": [
       "<Figure size 432x288 with 1 Axes>"
      ]
     },
     "metadata": {
      "needs_background": "light"
     },
     "output_type": "display_data"
    }
   ],
   "source": [
    "sns.barplot(x = 'quality', y = 'volatile acidity', data = data)"
   ]
  },
  {
   "cell_type": "code",
   "execution_count": 10,
   "metadata": {},
   "outputs": [
    {
     "data": {
      "text/plain": [
       "<matplotlib.axes._subplots.AxesSubplot at 0x1c074590>"
      ]
     },
     "execution_count": 10,
     "metadata": {},
     "output_type": "execute_result"
    },
    {
     "data": {
      "image/png": "[encoded data removed]",
      "text/plain": [
       "<Figure size 432x288 with 1 Axes>"
      ]
     },
     "metadata": {
      "needs_background": "light"
     },
     "output_type": "display_data"
    }
   ],
   "source": [
    "sns.barplot(x = 'quality', y = 'fixed acidity', data = data)"
   ]
  },
  {
   "cell_type": "code",
   "execution_count": 11,
   "metadata": {},
   "outputs": [
    {
     "data": {
      "text/plain": [
       "<matplotlib.axes._subplots.AxesSubplot at 0x1c0e6890>"
      ]
     },
     "execution_count": 11,
     "metadata": {},
     "output_type": "execute_result"
    },
    {
     "data": {
      "image/png": "[encoded data removed]",
      "text/plain": [
       "<Figure size 432x288 with 1 Axes>"
      ]
     },
     "metadata": {
      "needs_background": "light"
     },
     "output_type": "display_data"
    }
   ],
   "source": [
    "sns.barplot(x = 'quality', y = 'citric acid', data = data)"
   ]
  },
  {
   "cell_type": "code",
   "execution_count": 12,
   "metadata": {},
   "outputs": [
    {
     "data": {
      "text/plain": [
       "<matplotlib.axes._subplots.AxesSubplot at 0x1c1327d0>"
      ]
     },
     "execution_count": 12,
     "metadata": {},
     "output_type": "execute_result"
    },
    {
     "data": {
      "image/png": "[encoded data removed]",
      "text/plain": [
       "<Figure size 432x288 with 1 Axes>"
      ]
     },
     "metadata": {
      "needs_background": "light"
     },
     "output_type": "display_data"
    }
   ],
   "source": [
    "sns.barplot(x = 'quality', y = 'residual sugar', data = data)\n"
   ]
  },
  {
   "cell_type": "code",
   "execution_count": 13,
   "metadata": {},
   "outputs": [
    {
     "data": {
      "text/plain": [
       "<matplotlib.axes._subplots.AxesSubplot at 0x1c167970>"
      ]
     },
     "execution_count": 13,
     "metadata": {},
     "output_type": "execute_result"
    },
    {
     "data": {
      "image/png": "[encoded data removed]",
      "text/plain": [
       "<Figure size 432x288 with 1 Axes>"
      ]
     },
     "metadata": {
      "needs_background": "light"
     },
     "output_type": "display_data"
    }
   ],
   "source": [
    "sns.barplot(x = 'quality', y = 'chlorides', data = data)"
   ]
  },
  {
   "cell_type": "code",
   "execution_count": 14,
   "metadata": {},
   "outputs": [
    {
     "data": {
      "text/plain": [
       "<matplotlib.axes._subplots.AxesSubplot at 0x1c1cc450>"
      ]
     },
     "execution_count": 14,
     "metadata": {},
     "output_type": "execute_result"
    },
    {
     "data": {
      "image/png": "[encoded data removed]",
      "text/plain": [
       "<Figure size 432x288 with 1 Axes>"
      ]
     },
     "metadata": {
      "needs_background": "light"
     },
     "output_type": "display_data"
    }
   ],
   "source": [
    "sns.barplot(x = 'quality', y = 'free sulfur dioxide', data = data)"
   ]
  },
  {
   "cell_type": "code",
   "execution_count": 15,
   "metadata": {},
   "outputs": [
    {
     "data": {
      "text/plain": [
       "<matplotlib.axes._subplots.AxesSubplot at 0x1c21f4d0>"
      ]
     },
     "execution_count": 15,
     "metadata": {},
     "output_type": "execute_result"
    },
    {
     "data": {
      "image/png": "[encoded data removed]",
      "text/plain": [
       "<Figure size 432x288 with 1 Axes>"
      ]
     },
     "metadata": {
      "needs_background": "light"
     },
     "output_type": "display_data"
    }
   ],
   "source": [
    "sns.barplot(x ='quality', y = 'total sulfur dioxide', data= data)"
   ]
  },
  {
   "cell_type": "code",
   "execution_count": 16,
   "metadata": {},
   "outputs": [
    {
     "data": {
      "text/plain": [
       "<matplotlib.axes._subplots.AxesSubplot at 0x1c26cff0>"
      ]
     },
     "execution_count": 16,
     "metadata": {},
     "output_type": "execute_result"
    },
    {
     "data": {
      "image/png": "[encoded data removed]",
      "text/plain": [
       "<Figure size 432x288 with 1 Axes>"
      ]
     },
     "metadata": {
      "needs_background": "light"
     },
     "output_type": "display_data"
    }
   ],
   "source": [
    "sns.barplot(x = 'quality', y = 'density', data = data)"
   ]
  },
  {
   "cell_type": "code",
   "execution_count": 17,
   "metadata": {},
   "outputs": [
    {
     "data": {
      "text/plain": [
       "<matplotlib.axes._subplots.AxesSubplot at 0x1c2a62b0>"
      ]
     },
     "execution_count": 17,
     "metadata": {},
     "output_type": "execute_result"
    },
    {
     "data": {
      "image/png": "[encoded data removed]",
      "text/plain": [
       "<Figure size 432x288 with 1 Axes>"
      ]
     },
     "metadata": {
      "needs_background": "light"
     },
     "output_type": "display_data"
    }
   ],
   "source": [
    "sns.barplot( x = 'quality', y = 'pH', data=data)"
   ]
  },
  {
   "cell_type": "code",
   "execution_count": 18,
   "metadata": {},
   "outputs": [
    {
     "data": {
      "text/plain": [
       "<matplotlib.axes._subplots.AxesSubplot at 0x1c300d30>"
      ]
     },
     "execution_count": 18,
     "metadata": {},
     "output_type": "execute_result"
    },
    {
     "data": {
      "image/png": "[encoded data removed]",
      "text/plain": [
       "<Figure size 432x288 with 1 Axes>"
      ]
     },
     "metadata": {
      "needs_background": "light"
     },
     "output_type": "display_data"
    }
   ],
   "source": [
    "sns.barplot(x = 'quality', y = 'sulphates', data = data)"
   ]
  },
  {
   "cell_type": "code",
   "execution_count": 19,
   "metadata": {},
   "outputs": [
    {
     "data": {
      "text/plain": [
       "<matplotlib.axes._subplots.AxesSubplot at 0x1c349bd0>"
      ]
     },
     "execution_count": 19,
     "metadata": {},
     "output_type": "execute_result"
    },
    {
     "data": {
      "image/png": "[encoded data removed]",
      "text/plain": [
       "<Figure size 432x288 with 1 Axes>"
      ]
     },
     "metadata": {
      "needs_background": "light"
     },
     "output_type": "display_data"
    }
   ],
   "source": [
    "sns.barplot(x = 'quality', y ='alcohol', data = data)"
   ]
  },
  {
   "cell_type": "code",
   "execution_count": 20,
   "metadata": {},
   "outputs": [],
   "source": [
    "#selecting the input and output features for regression tasks\n",
    "features = ['fixed acidity','volatile acidity','citric acid','residual sugar','chlorides',\n",
    "            'free sulfur dioxide','total sulfur dioxide','density','pH','sulphates','alcohol']"
   ]
  },
  {
   "cell_type": "code",
   "execution_count": 21,
   "metadata": {},
   "outputs": [],
   "source": [
    "target = ['quality']"
   ]
  },
  {
   "cell_type": "code",
   "execution_count": 22,
   "metadata": {},
   "outputs": [
    {
     "data": {
      "text/plain": [
       "fixed acidity           False\n",
       "volatile acidity        False\n",
       "citric acid             False\n",
       "residual sugar          False\n",
       "chlorides               False\n",
       "free sulfur dioxide     False\n",
       "total sulfur dioxide    False\n",
       "density                 False\n",
       "pH                      False\n",
       "sulphates               False\n",
       "alcohol                 False\n",
       "quality                 False\n",
       "dtype: bool"
      ]
     },
     "execution_count": 22,
     "metadata": {},
     "output_type": "execute_result"
    }
   ],
   "source": [
    "#cheching for any null values in the dataset\n",
    "data.isnull().any()"
   ]
  },
  {
   "cell_type": "code",
   "execution_count": 23,
   "metadata": {},
   "outputs": [],
   "source": [
    "#inisialization\n",
    "X = data[features]\n",
    "y = data[target]"
   ]
  },
  {
   "cell_type": "code",
   "execution_count": 24,
   "metadata": {},
   "outputs": [],
   "source": [
    "#SPLITTING THE DATA INTO TEST AND TRAIN \n",
    "X_train, X_test, y_train, y_test = train_test_split(X, y, test_size=0.33, random_state=200)"
   ]
  },
  {
   "cell_type": "code",
   "execution_count": 25,
   "metadata": {},
   "outputs": [
    {
     "data": {
      "text/plain": [
       "LinearRegression(copy_X=True, fit_intercept=True, n_jobs=None, normalize=False)"
      ]
     },
     "execution_count": 25,
     "metadata": {},
     "output_type": "execute_result"
    }
   ],
   "source": [
    "#Fit on train set\n",
    "regressor = LinearRegression()\n",
    "regressor.fit(X_train, y_train)"
   ]
  },
  {
   "cell_type": "code",
   "execution_count": 26,
   "metadata": {},
   "outputs": [
    {
     "name": "stdout",
     "output_type": "stream",
     "text": [
      "[[5.6362557 ]\n",
      " [5.73580131]\n",
      " [5.51754284]\n",
      " [5.48101339]\n",
      " [5.69866009]\n",
      " [4.20174276]\n",
      " [6.36821516]\n",
      " [5.36899847]\n",
      " [5.05858532]\n",
      " [5.16117307]]\n",
      "--------------------------------------------------\n",
      "      quality\n",
      "366         7\n",
      "1325        6\n",
      "133         6\n",
      "1418        5\n",
      "1258        6\n",
      "672         5\n",
      "609         6\n",
      "388         6\n",
      "627         5\n",
      "688         5\n"
     ]
    }
   ],
   "source": [
    "#Predict on test data\n",
    "y_prediction = regressor.predict(X_test)\n",
    "print(y_prediction[:10])\n",
    "print('-'*50)\n",
    "print(y_test[:10])"
   ]
  },
  {
   "cell_type": "code",
   "execution_count": 27,
   "metadata": {},
   "outputs": [
    {
     "data": {
      "text/plain": [
       "<bound method NDFrame.describe of       quality\n",
       "366         7\n",
       "1325        6\n",
       "133         6\n",
       "1418        5\n",
       "1258        6\n",
       "...       ...\n",
       "26          5\n",
       "1257        6\n",
       "717         5\n",
       "1049        6\n",
       "202         5\n",
       "\n",
       "[528 rows x 1 columns]>"
      ]
     },
     "execution_count": 27,
     "metadata": {},
     "output_type": "execute_result"
    }
   ],
   "source": [
    "y_test.describe"
   ]
  },
  {
   "cell_type": "code",
   "execution_count": 28,
   "metadata": {},
   "outputs": [
    {
     "name": "stdout",
     "output_type": "stream",
     "text": [
      "0.605381364047621\n"
     ]
    }
   ],
   "source": [
    "#evaluate the accuracy of linear regression using RMSe(root mean square error)\n",
    "RMSE = sqrt(mean_squared_error(y_true=y_test, y_pred=y_prediction))\n",
    "print(RMSE)"
   ]
  },
  {
   "cell_type": "code",
   "execution_count": 29,
   "metadata": {},
   "outputs": [
    {
     "data": {
      "text/plain": [
       "DecisionTreeRegressor(criterion='mse', max_depth=50, max_features=None,\n",
       "                      max_leaf_nodes=None, min_impurity_decrease=0.0,\n",
       "                      min_impurity_split=None, min_samples_leaf=1,\n",
       "                      min_samples_split=2, min_weight_fraction_leaf=0.0,\n",
       "                      presort=False, random_state=None, splitter='best')"
      ]
     },
     "execution_count": 29,
     "metadata": {},
     "output_type": "execute_result"
    }
   ],
   "source": [
    "#Fit on a new regression model to train ste which is Decision Tree\n",
    "regressor = DecisionTreeRegressor(max_depth=50)\n",
    "regressor.fit(X_train, y_train)"
   ]
  },
  {
   "cell_type": "code",
   "execution_count": 30,
   "metadata": {},
   "outputs": [
    {
     "name": "stdout",
     "output_type": "stream",
     "text": [
      "      quality\n",
      "366         7\n",
      "1325        6\n",
      "133         6\n",
      "1418        5\n",
      "1258        6\n",
      "672         5\n",
      "609         6\n",
      "388         6\n",
      "627         5\n",
      "688         5\n",
      "[7. 6. 5. 5. 6. 5. 6. 6. 4. 6.]\n"
     ]
    }
   ],
   "source": [
    "#perform prediction using decision tree\n",
    "y_prediction = regressor.predict(X_test)\n",
    "print(y_test[:10])\n",
    "print(y_prediction[:10])"
   ]
  },
  {
   "cell_type": "code",
   "execution_count": 31,
   "metadata": {},
   "outputs": [],
   "source": [
    "#evaluate the accuracy using RMSE\n",
    "RMSE = sqrt(mean_squared_error(y_true=y_test, y_pred=y_prediction))"
   ]
  },
  {
   "cell_type": "code",
   "execution_count": 32,
   "metadata": {},
   "outputs": [
    {
     "name": "stdout",
     "output_type": "stream",
     "text": [
      "0.7687061147858074\n"
     ]
    }
   ],
   "source": [
    "print(RMSE)"
   ]
  },
  {
   "cell_type": "code",
   "execution_count": 35,
   "metadata": {},
   "outputs": [],
   "source": [
    "#classification model\n",
    "from sklearn.tree import DecisionTreeClassifier"
   ]
  },
  {
   "cell_type": "code",
   "execution_count": 36,
   "metadata": {},
   "outputs": [],
   "source": [
    "#copying the dataset into a new one\n",
    "data_classifier = data.copy()"
   ]
  },
  {
   "cell_type": "code",
   "execution_count": 37,
   "metadata": {},
   "outputs": [
    {
     "data": {
      "text/html": [
       "<div>\n",
       "<style scoped>\n",
       "    .dataframe tbody tr th:only-of-type {\n",
       "        vertical-align: middle;\n",
       "    }\n",
       "\n",
       "    .dataframe tbody tr th {\n",
       "        vertical-align: top;\n",
       "    }\n",
       "\n",
       "    .dataframe thead th {\n",
       "        text-align: right;\n",
       "    }\n",
       "</style>\n",
       "<table border=\"1\" class=\"dataframe\">\n",
       "  <thead>\n",
       "    <tr style=\"text-align: right;\">\n",
       "      <th></th>\n",
       "      <th>fixed acidity</th>\n",
       "      <th>volatile acidity</th>\n",
       "      <th>citric acid</th>\n",
       "      <th>residual sugar</th>\n",
       "      <th>chlorides</th>\n",
       "      <th>free sulfur dioxide</th>\n",
       "      <th>total sulfur dioxide</th>\n",
       "      <th>density</th>\n",
       "      <th>pH</th>\n",
       "      <th>sulphates</th>\n",
       "      <th>alcohol</th>\n",
       "      <th>quality</th>\n",
       "    </tr>\n",
       "  </thead>\n",
       "  <tbody>\n",
       "    <tr>\n",
       "      <th>0</th>\n",
       "      <td>7.4</td>\n",
       "      <td>0.70</td>\n",
       "      <td>0.00</td>\n",
       "      <td>1.9</td>\n",
       "      <td>0.076</td>\n",
       "      <td>11.0</td>\n",
       "      <td>34.0</td>\n",
       "      <td>0.9978</td>\n",
       "      <td>3.51</td>\n",
       "      <td>0.56</td>\n",
       "      <td>9.4</td>\n",
       "      <td>5</td>\n",
       "    </tr>\n",
       "    <tr>\n",
       "      <th>1</th>\n",
       "      <td>7.8</td>\n",
       "      <td>0.88</td>\n",
       "      <td>0.00</td>\n",
       "      <td>2.6</td>\n",
       "      <td>0.098</td>\n",
       "      <td>25.0</td>\n",
       "      <td>67.0</td>\n",
       "      <td>0.9968</td>\n",
       "      <td>3.20</td>\n",
       "      <td>0.68</td>\n",
       "      <td>9.8</td>\n",
       "      <td>5</td>\n",
       "    </tr>\n",
       "    <tr>\n",
       "      <th>2</th>\n",
       "      <td>7.8</td>\n",
       "      <td>0.76</td>\n",
       "      <td>0.04</td>\n",
       "      <td>2.3</td>\n",
       "      <td>0.092</td>\n",
       "      <td>15.0</td>\n",
       "      <td>54.0</td>\n",
       "      <td>0.9970</td>\n",
       "      <td>3.26</td>\n",
       "      <td>0.65</td>\n",
       "      <td>9.8</td>\n",
       "      <td>5</td>\n",
       "    </tr>\n",
       "    <tr>\n",
       "      <th>3</th>\n",
       "      <td>11.2</td>\n",
       "      <td>0.28</td>\n",
       "      <td>0.56</td>\n",
       "      <td>1.9</td>\n",
       "      <td>0.075</td>\n",
       "      <td>17.0</td>\n",
       "      <td>60.0</td>\n",
       "      <td>0.9980</td>\n",
       "      <td>3.16</td>\n",
       "      <td>0.58</td>\n",
       "      <td>9.8</td>\n",
       "      <td>6</td>\n",
       "    </tr>\n",
       "    <tr>\n",
       "      <th>4</th>\n",
       "      <td>7.4</td>\n",
       "      <td>0.70</td>\n",
       "      <td>0.00</td>\n",
       "      <td>1.9</td>\n",
       "      <td>0.076</td>\n",
       "      <td>11.0</td>\n",
       "      <td>34.0</td>\n",
       "      <td>0.9978</td>\n",
       "      <td>3.51</td>\n",
       "      <td>0.56</td>\n",
       "      <td>9.4</td>\n",
       "      <td>5</td>\n",
       "    </tr>\n",
       "  </tbody>\n",
       "</table>\n",
       "</div>"
      ],
      "text/plain": [
       "   fixed acidity  volatile acidity  citric acid  residual sugar  chlorides  \\\n",
       "0            7.4              0.70         0.00             1.9      0.076   \n",
       "1            7.8              0.88         0.00             2.6      0.098   \n",
       "2            7.8              0.76         0.04             2.3      0.092   \n",
       "3           11.2              0.28         0.56             1.9      0.075   \n",
       "4            7.4              0.70         0.00             1.9      0.076   \n",
       "\n",
       "   free sulfur dioxide  total sulfur dioxide  density    pH  sulphates  \\\n",
       "0                 11.0                  34.0   0.9978  3.51       0.56   \n",
       "1                 25.0                  67.0   0.9968  3.20       0.68   \n",
       "2                 15.0                  54.0   0.9970  3.26       0.65   \n",
       "3                 17.0                  60.0   0.9980  3.16       0.58   \n",
       "4                 11.0                  34.0   0.9978  3.51       0.56   \n",
       "\n",
       "   alcohol  quality  \n",
       "0      9.4        5  \n",
       "1      9.8        5  \n",
       "2      9.8        5  \n",
       "3      9.8        6  \n",
       "4      9.4        5  "
      ]
     },
     "execution_count": 37,
     "metadata": {},
     "output_type": "execute_result"
    }
   ],
   "source": [
    "data_classifier.head()"
   ]
  },
  {
   "cell_type": "code",
   "execution_count": 56,
   "metadata": {},
   "outputs": [
    {
     "data": {
      "text/plain": [
       "dtype('int64')"
      ]
     },
     "execution_count": 56,
     "metadata": {},
     "output_type": "execute_result"
    }
   ],
   "source": [
    "data_classifier['quality'].dtype"
   ]
  },
  {
   "cell_type": "code",
   "execution_count": 57,
   "metadata": {},
   "outputs": [],
   "source": [
    "#convert the value in 1,2,3\n",
    "data_classifier = [] \n",
    "for i in data['quality']:\n",
    "    if i >= 1 and i <= 4:\n",
    "        data_classifier.append('bad')\n",
    "    elif i >= 5 and i <= 6:\n",
    "        data_classifier.append('good')\n",
    "    elif i >= 6 and i <= 8:\n",
    "        data_classifier.append('excellent')\n",
    "data['quality_label'] = data_classifier\n",
    "X_train = data.drop(['quality', 'quality_label'] , axis = 1)\n",
    "y_train = data['quality_label']"
   ]
  },
  {
   "cell_type": "code",
   "execution_count": 58,
   "metadata": {},
   "outputs": [
    {
     "data": {
      "text/plain": [
       "0       good\n",
       "1       good\n",
       "2       good\n",
       "3       good\n",
       "4       good\n",
       "        ... \n",
       "1594    good\n",
       "1595    good\n",
       "1596    good\n",
       "1597    good\n",
       "1598    good\n",
       "Name: quality_label, Length: 1599, dtype: object"
      ]
     },
     "execution_count": 58,
     "metadata": {},
     "output_type": "execute_result"
    }
   ],
   "source": [
    "data['quality_label']"
   ]
  },
  {
   "cell_type": "code",
   "execution_count": 59,
   "metadata": {},
   "outputs": [],
   "source": [
    "features = ['fixed acidity','volatile acidity','citric acid','residual sugar','chlorides',\n",
    "            'free sulfur dioxide','total sulfur dioxide','density','pH','sulphates','alcohol']\n",
    "target_classifier = ['quality_label']"
   ]
  },
  {
   "cell_type": "code",
   "execution_count": 60,
   "metadata": {},
   "outputs": [],
   "source": [
    "X = data[features]\n",
    "y = data[target_classifier]"
   ]
  },
  {
   "cell_type": "code",
   "execution_count": 61,
   "metadata": {},
   "outputs": [],
   "source": [
    "#splitting the train and test data\n",
    "X_train, X_test, y_train, y_test = train_test_split(X,y, test_size = 0.33, random_state=324)"
   ]
  },
  {
   "cell_type": "code",
   "execution_count": 62,
   "metadata": {},
   "outputs": [],
   "source": [
    "#fit on train set\n",
    "data_quality = DecisionTreeClassifier(max_leaf_nodes = 20, random_state=0)"
   ]
  },
  {
   "cell_type": "code",
   "execution_count": 63,
   "metadata": {
    "scrolled": true
   },
   "outputs": [
    {
     "data": {
      "text/plain": [
       "DecisionTreeClassifier(class_weight=None, criterion='gini', max_depth=None,\n",
       "                       max_features=None, max_leaf_nodes=20,\n",
       "                       min_impurity_decrease=0.0, min_impurity_split=None,\n",
       "                       min_samples_leaf=1, min_samples_split=2,\n",
       "                       min_weight_fraction_leaf=0.0, presort=False,\n",
       "                       random_state=0, splitter='best')"
      ]
     },
     "execution_count": 63,
     "metadata": {},
     "output_type": "execute_result"
    }
   ],
   "source": [
    "data_quality.fit(X_train, y_train)"
   ]
  },
  {
   "cell_type": "code",
   "execution_count": 64,
   "metadata": {},
   "outputs": [
    {
     "data": {
      "image/svg+xml": [
       "<?xml version=\"1.0\" encoding=\"UTF-8\" standalone=\"no\"?>\r\n",
       "<!DOCTYPE svg PUBLIC \"-//W3C//DTD SVG 1.1//EN\"\r\n",
       " \"http://www.w3.org/Graphics/SVG/1.1/DTD/svg11.dtd\">\r\n",
       "<!-- Generated by graphviz version 2.38.0 (20140413.2041)\r\n",
       " -->\r\n",
       "<!-- Title: Tree Pages: 1 -->\r\n",
       "<svg width=\"1650pt\" height=\"685pt\"\r\n",
       " viewBox=\"0.00 0.00 1650.00 685.00\" xmlns=\"http://www.w3.org/2000/svg\" xmlns:xlink=\"http://www.w3.org/1999/xlink\">\r\n",
       "<g id=\"graph0\" class=\"graph\" transform=\"scale(1 1) rotate(0) translate(4 681)\">\r\n",
       "<title>Tree</title>\r\n",
       "<polygon fill=\"white\" stroke=\"none\" points=\"-4,4 -4,-681 1646,-681 1646,4 -4,4\"/>\r\n",
       "<!-- 0 -->\r\n",
       "<g id=\"node1\" class=\"node\"><title>0</title>\r\n",
       "<polygon fill=\"none\" stroke=\"black\" points=\"755.5,-677 616.5,-677 616.5,-609 755.5,-609 755.5,-677\"/>\r\n",
       "<text text-anchor=\"middle\" x=\"686\" y=\"-661.8\" font-family=\"Times New Roman,serif\" font-size=\"14.00\">alcohol &lt;= 11.55</text>\r\n",
       "<text text-anchor=\"middle\" x=\"686\" y=\"-646.8\" font-family=\"Times New Roman,serif\" font-size=\"14.00\">gini = 0.305</text>\r\n",
       "<text text-anchor=\"middle\" x=\"686\" y=\"-631.8\" font-family=\"Times New Roman,serif\" font-size=\"14.00\">samples = 1071</text>\r\n",
       "<text text-anchor=\"middle\" x=\"686\" y=\"-616.8\" font-family=\"Times New Roman,serif\" font-size=\"14.00\">value = [43, 149, 879]</text>\r\n",
       "</g>\r\n",
       "<!-- 1 -->\r\n",
       "<g id=\"node2\" class=\"node\"><title>1</title>\r\n",
       "<polygon fill=\"none\" stroke=\"black\" points=\"649.5,-573 498.5,-573 498.5,-505 649.5,-505 649.5,-573\"/>\r\n",
       "<text text-anchor=\"middle\" x=\"574\" y=\"-557.8\" font-family=\"Times New Roman,serif\" font-size=\"14.00\">volatile acidity &lt;= 0.375</text>\r\n",
       "<text text-anchor=\"middle\" x=\"574\" y=\"-542.8\" font-family=\"Times New Roman,serif\" font-size=\"14.00\">gini = 0.226</text>\r\n",
       "<text text-anchor=\"middle\" x=\"574\" y=\"-527.8\" font-family=\"Times New Roman,serif\" font-size=\"14.00\">samples = 903</text>\r\n",
       "<text text-anchor=\"middle\" x=\"574\" y=\"-512.8\" font-family=\"Times New Roman,serif\" font-size=\"14.00\">value = [41, 72, 790]</text>\r\n",
       "</g>\r\n",
       "<!-- 0&#45;&gt;1 -->\r\n",
       "<g id=\"edge1\" class=\"edge\"><title>0&#45;&gt;1</title>\r\n",
       "<path fill=\"none\" stroke=\"black\" d=\"M649.637,-608.884C639.563,-599.709 628.518,-589.65 618.056,-580.123\"/>\r\n",
       "<polygon fill=\"black\" stroke=\"black\" points=\"620.314,-577.445 610.564,-573.299 615.601,-582.62 620.314,-577.445\"/>\r\n",
       "<text text-anchor=\"middle\" x=\"611.731\" y=\"-594.572\" font-family=\"Times New Roman,serif\" font-size=\"14.00\">True</text>\r\n",
       "</g>\r\n",
       "<!-- 2 -->\r\n",
       "<g id=\"node19\" class=\"node\"><title>2</title>\r\n",
       "<polygon fill=\"none\" stroke=\"black\" points=\"859.5,-573 736.5,-573 736.5,-505 859.5,-505 859.5,-573\"/>\r\n",
       "<text text-anchor=\"middle\" x=\"798\" y=\"-557.8\" font-family=\"Times New Roman,serif\" font-size=\"14.00\">sulphates &lt;= 0.685</text>\r\n",
       "<text text-anchor=\"middle\" x=\"798\" y=\"-542.8\" font-family=\"Times New Roman,serif\" font-size=\"14.00\">gini = 0.509</text>\r\n",
       "<text text-anchor=\"middle\" x=\"798\" y=\"-527.8\" font-family=\"Times New Roman,serif\" font-size=\"14.00\">samples = 168</text>\r\n",
       "<text text-anchor=\"middle\" x=\"798\" y=\"-512.8\" font-family=\"Times New Roman,serif\" font-size=\"14.00\">value = [2, 77, 89]</text>\r\n",
       "</g>\r\n",
       "<!-- 0&#45;&gt;2 -->\r\n",
       "<g id=\"edge18\" class=\"edge\"><title>0&#45;&gt;2</title>\r\n",
       "<path fill=\"none\" stroke=\"black\" d=\"M722.363,-608.884C732.437,-599.709 743.482,-589.65 753.944,-580.123\"/>\r\n",
       "<polygon fill=\"black\" stroke=\"black\" points=\"756.399,-582.62 761.436,-573.299 751.686,-577.445 756.399,-582.62\"/>\r\n",
       "<text text-anchor=\"middle\" x=\"760.269\" y=\"-594.572\" font-family=\"Times New Roman,serif\" font-size=\"14.00\">False</text>\r\n",
       "</g>\r\n",
       "<!-- 5 -->\r\n",
       "<g id=\"node3\" class=\"node\"><title>5</title>\r\n",
       "<polygon fill=\"none\" stroke=\"black\" points=\"391.5,-469 266.5,-469 266.5,-401 391.5,-401 391.5,-469\"/>\r\n",
       "<text text-anchor=\"middle\" x=\"329\" y=\"-453.8\" font-family=\"Times New Roman,serif\" font-size=\"14.00\">alcohol &lt;= 10.45</text>\r\n",
       "<text text-anchor=\"middle\" x=\"329\" y=\"-438.8\" font-family=\"Times New Roman,serif\" font-size=\"14.00\">gini = 0.404</text>\r\n",
       "<text text-anchor=\"middle\" x=\"329\" y=\"-423.8\" font-family=\"Times New Roman,serif\" font-size=\"14.00\">samples = 166</text>\r\n",
       "<text text-anchor=\"middle\" x=\"329\" y=\"-408.8\" font-family=\"Times New Roman,serif\" font-size=\"14.00\">value = [3, 42, 121]</text>\r\n",
       "</g>\r\n",
       "<!-- 1&#45;&gt;5 -->\r\n",
       "<g id=\"edge2\" class=\"edge\"><title>1&#45;&gt;5</title>\r\n",
       "<path fill=\"none\" stroke=\"black\" d=\"M498.493,-506.564C467.403,-493.621 431.553,-478.695 400.853,-465.915\"/>\r\n",
       "<polygon fill=\"black\" stroke=\"black\" points=\"402.08,-462.634 391.502,-462.021 399.389,-469.096 402.08,-462.634\"/>\r\n",
       "</g>\r\n",
       "<!-- 6 -->\r\n",
       "<g id=\"node16\" class=\"node\"><title>6</title>\r\n",
       "<polygon fill=\"none\" stroke=\"black\" points=\"649.5,-469 498.5,-469 498.5,-401 649.5,-401 649.5,-469\"/>\r\n",
       "<text text-anchor=\"middle\" x=\"574\" y=\"-453.8\" font-family=\"Times New Roman,serif\" font-size=\"14.00\">volatile acidity &lt;= 0.905</text>\r\n",
       "<text text-anchor=\"middle\" x=\"574\" y=\"-438.8\" font-family=\"Times New Roman,serif\" font-size=\"14.00\">gini = 0.172</text>\r\n",
       "<text text-anchor=\"middle\" x=\"574\" y=\"-423.8\" font-family=\"Times New Roman,serif\" font-size=\"14.00\">samples = 737</text>\r\n",
       "<text text-anchor=\"middle\" x=\"574\" y=\"-408.8\" font-family=\"Times New Roman,serif\" font-size=\"14.00\">value = [38, 30, 669]</text>\r\n",
       "</g>\r\n",
       "<!-- 1&#45;&gt;6 -->\r\n",
       "<g id=\"edge15\" class=\"edge\"><title>1&#45;&gt;6</title>\r\n",
       "<path fill=\"none\" stroke=\"black\" d=\"M574,-504.884C574,-496.778 574,-487.982 574,-479.472\"/>\r\n",
       "<polygon fill=\"black\" stroke=\"black\" points=\"577.5,-479.299 574,-469.299 570.5,-479.299 577.5,-479.299\"/>\r\n",
       "</g>\r\n",
       "<!-- 7 -->\r\n",
       "<g id=\"node4\" class=\"node\"><title>7</title>\r\n",
       "<polygon fill=\"none\" stroke=\"black\" points=\"251,-365 111,-365 111,-297 251,-297 251,-365\"/>\r\n",
       "<text text-anchor=\"middle\" x=\"181\" y=\"-349.8\" font-family=\"Times New Roman,serif\" font-size=\"14.00\">fixed acidity &lt;= 14.65</text>\r\n",
       "<text text-anchor=\"middle\" x=\"181\" y=\"-334.8\" font-family=\"Times New Roman,serif\" font-size=\"14.00\">gini = 0.23</text>\r\n",
       "<text text-anchor=\"middle\" x=\"181\" y=\"-319.8\" font-family=\"Times New Roman,serif\" font-size=\"14.00\">samples = 85</text>\r\n",
       "<text text-anchor=\"middle\" x=\"181\" y=\"-304.8\" font-family=\"Times New Roman,serif\" font-size=\"14.00\">value = [2, 9, 74]</text>\r\n",
       "</g>\r\n",
       "<!-- 5&#45;&gt;7 -->\r\n",
       "<g id=\"edge3\" class=\"edge\"><title>5&#45;&gt;7</title>\r\n",
       "<path fill=\"none\" stroke=\"black\" d=\"M280.949,-400.884C267.049,-391.304 251.751,-380.761 237.392,-370.864\"/>\r\n",
       "<polygon fill=\"black\" stroke=\"black\" points=\"239.283,-367.918 229.063,-365.125 235.311,-373.681 239.283,-367.918\"/>\r\n",
       "</g>\r\n",
       "<!-- 8 -->\r\n",
       "<g id=\"node7\" class=\"node\"><title>8</title>\r\n",
       "<polygon fill=\"none\" stroke=\"black\" points=\"388.5,-365 269.5,-365 269.5,-297 388.5,-297 388.5,-365\"/>\r\n",
       "<text text-anchor=\"middle\" x=\"329\" y=\"-349.8\" font-family=\"Times New Roman,serif\" font-size=\"14.00\">pH &lt;= 3.265</text>\r\n",
       "<text text-anchor=\"middle\" x=\"329\" y=\"-334.8\" font-family=\"Times New Roman,serif\" font-size=\"14.00\">gini = 0.497</text>\r\n",
       "<text text-anchor=\"middle\" x=\"329\" y=\"-319.8\" font-family=\"Times New Roman,serif\" font-size=\"14.00\">samples = 81</text>\r\n",
       "<text text-anchor=\"middle\" x=\"329\" y=\"-304.8\" font-family=\"Times New Roman,serif\" font-size=\"14.00\">value = [1, 33, 47]</text>\r\n",
       "</g>\r\n",
       "<!-- 5&#45;&gt;8 -->\r\n",
       "<g id=\"edge6\" class=\"edge\"><title>5&#45;&gt;8</title>\r\n",
       "<path fill=\"none\" stroke=\"black\" d=\"M329,-400.884C329,-392.778 329,-383.982 329,-375.472\"/>\r\n",
       "<polygon fill=\"black\" stroke=\"black\" points=\"332.5,-375.299 329,-365.299 325.5,-375.299 332.5,-375.299\"/>\r\n",
       "</g>\r\n",
       "<!-- 21 -->\r\n",
       "<g id=\"node5\" class=\"node\"><title>21</title>\r\n",
       "<polygon fill=\"none\" stroke=\"black\" points=\"112,-253.5 7.10543e-015,-253.5 7.10543e-015,-200.5 112,-200.5 112,-253.5\"/>\r\n",
       "<text text-anchor=\"middle\" x=\"56\" y=\"-238.3\" font-family=\"Times New Roman,serif\" font-size=\"14.00\">gini = 0.197</text>\r\n",
       "<text text-anchor=\"middle\" x=\"56\" y=\"-223.3\" font-family=\"Times New Roman,serif\" font-size=\"14.00\">samples = 83</text>\r\n",
       "<text text-anchor=\"middle\" x=\"56\" y=\"-208.3\" font-family=\"Times New Roman,serif\" font-size=\"14.00\">value = [2, 7, 74]</text>\r\n",
       "</g>\r\n",
       "<!-- 7&#45;&gt;21 -->\r\n",
       "<g id=\"edge4\" class=\"edge\"><title>7&#45;&gt;21</title>\r\n",
       "<path fill=\"none\" stroke=\"black\" d=\"M140.416,-296.884C125.86,-285.006 109.488,-271.646 95.0637,-259.876\"/>\r\n",
       "<polygon fill=\"black\" stroke=\"black\" points=\"97.2351,-257.13 87.2744,-253.52 92.8095,-262.554 97.2351,-257.13\"/>\r\n",
       "</g>\r\n",
       "<!-- 22 -->\r\n",
       "<g id=\"node6\" class=\"node\"><title>22</title>\r\n",
       "<polygon fill=\"none\" stroke=\"black\" points=\"235.5,-253.5 130.5,-253.5 130.5,-200.5 235.5,-200.5 235.5,-253.5\"/>\r\n",
       "<text text-anchor=\"middle\" x=\"183\" y=\"-238.3\" font-family=\"Times New Roman,serif\" font-size=\"14.00\">gini = 0.0</text>\r\n",
       "<text text-anchor=\"middle\" x=\"183\" y=\"-223.3\" font-family=\"Times New Roman,serif\" font-size=\"14.00\">samples = 2</text>\r\n",
       "<text text-anchor=\"middle\" x=\"183\" y=\"-208.3\" font-family=\"Times New Roman,serif\" font-size=\"14.00\">value = [0, 2, 0]</text>\r\n",
       "</g>\r\n",
       "<!-- 7&#45;&gt;22 -->\r\n",
       "<g id=\"edge5\" class=\"edge\"><title>7&#45;&gt;22</title>\r\n",
       "<path fill=\"none\" stroke=\"black\" d=\"M181.649,-296.884C181.859,-286.216 182.091,-274.352 182.304,-263.519\"/>\r\n",
       "<polygon fill=\"black\" stroke=\"black\" points=\"185.803,-263.587 182.5,-253.52 178.804,-263.449 185.803,-263.587\"/>\r\n",
       "</g>\r\n",
       "<!-- 9 -->\r\n",
       "<g id=\"node8\" class=\"node\"><title>9</title>\r\n",
       "<polygon fill=\"none\" stroke=\"black\" points=\"396.5,-261 255.5,-261 255.5,-193 396.5,-193 396.5,-261\"/>\r\n",
       "<text text-anchor=\"middle\" x=\"326\" y=\"-245.8\" font-family=\"Times New Roman,serif\" font-size=\"14.00\">residual sugar &lt;= 2.95</text>\r\n",
       "<text text-anchor=\"middle\" x=\"326\" y=\"-230.8\" font-family=\"Times New Roman,serif\" font-size=\"14.00\">gini = 0.422</text>\r\n",
       "<text text-anchor=\"middle\" x=\"326\" y=\"-215.8\" font-family=\"Times New Roman,serif\" font-size=\"14.00\">samples = 33</text>\r\n",
       "<text text-anchor=\"middle\" x=\"326\" y=\"-200.8\" font-family=\"Times New Roman,serif\" font-size=\"14.00\">value = [0, 23, 10]</text>\r\n",
       "</g>\r\n",
       "<!-- 8&#45;&gt;9 -->\r\n",
       "<g id=\"edge7\" class=\"edge\"><title>8&#45;&gt;9</title>\r\n",
       "<path fill=\"none\" stroke=\"black\" d=\"M328.026,-296.884C327.788,-288.778 327.529,-279.982 327.279,-271.472\"/>\r\n",
       "<polygon fill=\"black\" stroke=\"black\" points=\"330.772,-271.192 326.979,-261.299 323.775,-271.398 330.772,-271.192\"/>\r\n",
       "</g>\r\n",
       "<!-- 10 -->\r\n",
       "<g id=\"node11\" class=\"node\"><title>10</title>\r\n",
       "<polygon fill=\"none\" stroke=\"black\" points=\"555,-261 415,-261 415,-193 555,-193 555,-261\"/>\r\n",
       "<text text-anchor=\"middle\" x=\"485\" y=\"-245.8\" font-family=\"Times New Roman,serif\" font-size=\"14.00\">fixed acidity &lt;= 11.55</text>\r\n",
       "<text text-anchor=\"middle\" x=\"485\" y=\"-230.8\" font-family=\"Times New Roman,serif\" font-size=\"14.00\">gini = 0.362</text>\r\n",
       "<text text-anchor=\"middle\" x=\"485\" y=\"-215.8\" font-family=\"Times New Roman,serif\" font-size=\"14.00\">samples = 48</text>\r\n",
       "<text text-anchor=\"middle\" x=\"485\" y=\"-200.8\" font-family=\"Times New Roman,serif\" font-size=\"14.00\">value = [1, 10, 37]</text>\r\n",
       "</g>\r\n",
       "<!-- 8&#45;&gt;10 -->\r\n",
       "<g id=\"edge10\" class=\"edge\"><title>8&#45;&gt;10</title>\r\n",
       "<path fill=\"none\" stroke=\"black\" d=\"M379.649,-296.884C394.3,-287.304 410.425,-276.761 425.56,-266.864\"/>\r\n",
       "<polygon fill=\"black\" stroke=\"black\" points=\"427.884,-269.527 434.339,-261.125 424.054,-263.668 427.884,-269.527\"/>\r\n",
       "</g>\r\n",
       "<!-- 13 -->\r\n",
       "<g id=\"node9\" class=\"node\"><title>13</title>\r\n",
       "<polygon fill=\"none\" stroke=\"black\" points=\"263,-149.5 151,-149.5 151,-96.5 263,-96.5 263,-149.5\"/>\r\n",
       "<text text-anchor=\"middle\" x=\"207\" y=\"-134.3\" font-family=\"Times New Roman,serif\" font-size=\"14.00\">gini = 0.328</text>\r\n",
       "<text text-anchor=\"middle\" x=\"207\" y=\"-119.3\" font-family=\"Times New Roman,serif\" font-size=\"14.00\">samples = 29</text>\r\n",
       "<text text-anchor=\"middle\" x=\"207\" y=\"-104.3\" font-family=\"Times New Roman,serif\" font-size=\"14.00\">value = [0, 23, 6]</text>\r\n",
       "</g>\r\n",
       "<!-- 9&#45;&gt;13 -->\r\n",
       "<g id=\"edge8\" class=\"edge\"><title>9&#45;&gt;13</title>\r\n",
       "<path fill=\"none\" stroke=\"black\" d=\"M287.364,-192.884C273.635,-181.116 258.209,-167.894 244.571,-156.203\"/>\r\n",
       "<polygon fill=\"black\" stroke=\"black\" points=\"246.644,-153.37 236.773,-149.52 242.088,-158.685 246.644,-153.37\"/>\r\n",
       "</g>\r\n",
       "<!-- 14 -->\r\n",
       "<g id=\"node10\" class=\"node\"><title>14</title>\r\n",
       "<polygon fill=\"none\" stroke=\"black\" points=\"386.5,-149.5 281.5,-149.5 281.5,-96.5 386.5,-96.5 386.5,-149.5\"/>\r\n",
       "<text text-anchor=\"middle\" x=\"334\" y=\"-134.3\" font-family=\"Times New Roman,serif\" font-size=\"14.00\">gini = 0.0</text>\r\n",
       "<text text-anchor=\"middle\" x=\"334\" y=\"-119.3\" font-family=\"Times New Roman,serif\" font-size=\"14.00\">samples = 4</text>\r\n",
       "<text text-anchor=\"middle\" x=\"334\" y=\"-104.3\" font-family=\"Times New Roman,serif\" font-size=\"14.00\">value = [0, 0, 4]</text>\r\n",
       "</g>\r\n",
       "<!-- 9&#45;&gt;14 -->\r\n",
       "<g id=\"edge9\" class=\"edge\"><title>9&#45;&gt;14</title>\r\n",
       "<path fill=\"none\" stroke=\"black\" d=\"M328.597,-192.884C329.434,-182.216 330.365,-170.352 331.214,-159.519\"/>\r\n",
       "<polygon fill=\"black\" stroke=\"black\" points=\"334.706,-159.763 331.998,-149.52 327.727,-159.216 334.706,-159.763\"/>\r\n",
       "</g>\r\n",
       "<!-- 35 -->\r\n",
       "<g id=\"node12\" class=\"node\"><title>35</title>\r\n",
       "<polygon fill=\"none\" stroke=\"black\" points=\"533,-157 421,-157 421,-89 533,-89 533,-157\"/>\r\n",
       "<text text-anchor=\"middle\" x=\"477\" y=\"-141.8\" font-family=\"Times New Roman,serif\" font-size=\"14.00\">pH &lt;= 3.395</text>\r\n",
       "<text text-anchor=\"middle\" x=\"477\" y=\"-126.8\" font-family=\"Times New Roman,serif\" font-size=\"14.00\">gini = 0.322</text>\r\n",
       "<text text-anchor=\"middle\" x=\"477\" y=\"-111.8\" font-family=\"Times New Roman,serif\" font-size=\"14.00\">samples = 46</text>\r\n",
       "<text text-anchor=\"middle\" x=\"477\" y=\"-96.8\" font-family=\"Times New Roman,serif\" font-size=\"14.00\">value = [1, 8, 37]</text>\r\n",
       "</g>\r\n",
       "<!-- 10&#45;&gt;35 -->\r\n",
       "<g id=\"edge11\" class=\"edge\"><title>10&#45;&gt;35</title>\r\n",
       "<path fill=\"none\" stroke=\"black\" d=\"M482.403,-192.884C481.767,-184.778 481.077,-175.982 480.41,-167.472\"/>\r\n",
       "<polygon fill=\"black\" stroke=\"black\" points=\"483.883,-166.995 479.612,-157.299 476.904,-167.542 483.883,-166.995\"/>\r\n",
       "</g>\r\n",
       "<!-- 36 -->\r\n",
       "<g id=\"node15\" class=\"node\"><title>36</title>\r\n",
       "<polygon fill=\"none\" stroke=\"black\" points=\"656.5,-149.5 551.5,-149.5 551.5,-96.5 656.5,-96.5 656.5,-149.5\"/>\r\n",
       "<text text-anchor=\"middle\" x=\"604\" y=\"-134.3\" font-family=\"Times New Roman,serif\" font-size=\"14.00\">gini = 0.0</text>\r\n",
       "<text text-anchor=\"middle\" x=\"604\" y=\"-119.3\" font-family=\"Times New Roman,serif\" font-size=\"14.00\">samples = 2</text>\r\n",
       "<text text-anchor=\"middle\" x=\"604\" y=\"-104.3\" font-family=\"Times New Roman,serif\" font-size=\"14.00\">value = [0, 2, 0]</text>\r\n",
       "</g>\r\n",
       "<!-- 10&#45;&gt;36 -->\r\n",
       "<g id=\"edge14\" class=\"edge\"><title>10&#45;&gt;36</title>\r\n",
       "<path fill=\"none\" stroke=\"black\" d=\"M523.636,-192.884C537.365,-181.116 552.791,-167.894 566.429,-156.203\"/>\r\n",
       "<polygon fill=\"black\" stroke=\"black\" points=\"568.912,-158.685 574.227,-149.52 564.356,-153.37 568.912,-158.685\"/>\r\n",
       "</g>\r\n",
       "<!-- 37 -->\r\n",
       "<g id=\"node13\" class=\"node\"><title>37</title>\r\n",
       "<polygon fill=\"none\" stroke=\"black\" points=\"469,-53 357,-53 357,-0 469,-0 469,-53\"/>\r\n",
       "<text text-anchor=\"middle\" x=\"413\" y=\"-37.8\" font-family=\"Times New Roman,serif\" font-size=\"14.00\">gini = 0.202</text>\r\n",
       "<text text-anchor=\"middle\" x=\"413\" y=\"-22.8\" font-family=\"Times New Roman,serif\" font-size=\"14.00\">samples = 36</text>\r\n",
       "<text text-anchor=\"middle\" x=\"413\" y=\"-7.8\" font-family=\"Times New Roman,serif\" font-size=\"14.00\">value = [1, 3, 32]</text>\r\n",
       "</g>\r\n",
       "<!-- 35&#45;&gt;37 -->\r\n",
       "<g id=\"edge12\" class=\"edge\"><title>35&#45;&gt;37</title>\r\n",
       "<path fill=\"none\" stroke=\"black\" d=\"M454.616,-88.9485C448.606,-80.0749 442.098,-70.4648 436.053,-61.5388\"/>\r\n",
       "<polygon fill=\"black\" stroke=\"black\" points=\"438.936,-59.5539 430.43,-53.2367 433.14,-63.4792 438.936,-59.5539\"/>\r\n",
       "</g>\r\n",
       "<!-- 38 -->\r\n",
       "<g id=\"node14\" class=\"node\"><title>38</title>\r\n",
       "<polygon fill=\"none\" stroke=\"black\" points=\"592.5,-53 487.5,-53 487.5,-0 592.5,-0 592.5,-53\"/>\r\n",
       "<text text-anchor=\"middle\" x=\"540\" y=\"-37.8\" font-family=\"Times New Roman,serif\" font-size=\"14.00\">gini = 0.5</text>\r\n",
       "<text text-anchor=\"middle\" x=\"540\" y=\"-22.8\" font-family=\"Times New Roman,serif\" font-size=\"14.00\">samples = 10</text>\r\n",
       "<text text-anchor=\"middle\" x=\"540\" y=\"-7.8\" font-family=\"Times New Roman,serif\" font-size=\"14.00\">value = [0, 5, 5]</text>\r\n",
       "</g>\r\n",
       "<!-- 35&#45;&gt;38 -->\r\n",
       "<g id=\"edge13\" class=\"edge\"><title>35&#45;&gt;38</title>\r\n",
       "<path fill=\"none\" stroke=\"black\" d=\"M499.034,-88.9485C504.889,-80.1664 511.225,-70.6629 517.123,-61.815\"/>\r\n",
       "<polygon fill=\"black\" stroke=\"black\" points=\"520.207,-63.4987 522.842,-53.2367 514.383,-59.6158 520.207,-63.4987\"/>\r\n",
       "</g>\r\n",
       "<!-- 11 -->\r\n",
       "<g id=\"node17\" class=\"node\"><title>11</title>\r\n",
       "<polygon fill=\"none\" stroke=\"black\" points=\"539,-357.5 407,-357.5 407,-304.5 539,-304.5 539,-357.5\"/>\r\n",
       "<text text-anchor=\"middle\" x=\"473\" y=\"-342.3\" font-family=\"Times New Roman,serif\" font-size=\"14.00\">gini = 0.151</text>\r\n",
       "<text text-anchor=\"middle\" x=\"473\" y=\"-327.3\" font-family=\"Times New Roman,serif\" font-size=\"14.00\">samples = 710</text>\r\n",
       "<text text-anchor=\"middle\" x=\"473\" y=\"-312.3\" font-family=\"Times New Roman,serif\" font-size=\"14.00\">value = [27, 30, 653]</text>\r\n",
       "</g>\r\n",
       "<!-- 6&#45;&gt;11 -->\r\n",
       "<g id=\"edge16\" class=\"edge\"><title>6&#45;&gt;11</title>\r\n",
       "<path fill=\"none\" stroke=\"black\" d=\"M541.208,-400.884C529.774,-389.336 516.952,-376.387 505.538,-364.86\"/>\r\n",
       "<polygon fill=\"black\" stroke=\"black\" points=\"507.793,-362.163 498.27,-357.52 502.819,-367.088 507.793,-362.163\"/>\r\n",
       "</g>\r\n",
       "<!-- 12 -->\r\n",
       "<g id=\"node18\" class=\"node\"><title>12</title>\r\n",
       "<polygon fill=\"none\" stroke=\"black\" points=\"676.5,-357.5 557.5,-357.5 557.5,-304.5 676.5,-304.5 676.5,-357.5\"/>\r\n",
       "<text text-anchor=\"middle\" x=\"617\" y=\"-342.3\" font-family=\"Times New Roman,serif\" font-size=\"14.00\">gini = 0.483</text>\r\n",
       "<text text-anchor=\"middle\" x=\"617\" y=\"-327.3\" font-family=\"Times New Roman,serif\" font-size=\"14.00\">samples = 27</text>\r\n",
       "<text text-anchor=\"middle\" x=\"617\" y=\"-312.3\" font-family=\"Times New Roman,serif\" font-size=\"14.00\">value = [11, 0, 16]</text>\r\n",
       "</g>\r\n",
       "<!-- 6&#45;&gt;12 -->\r\n",
       "<g id=\"edge17\" class=\"edge\"><title>6&#45;&gt;12</title>\r\n",
       "<path fill=\"none\" stroke=\"black\" d=\"M587.961,-400.884C592.551,-389.996 597.666,-377.863 602.308,-366.85\"/>\r\n",
       "<polygon fill=\"black\" stroke=\"black\" points=\"605.582,-368.094 606.242,-357.52 599.132,-365.375 605.582,-368.094\"/>\r\n",
       "</g>\r\n",
       "<!-- 3 -->\r\n",
       "<g id=\"node20\" class=\"node\"><title>3</title>\r\n",
       "<polygon fill=\"none\" stroke=\"black\" points=\"882.5,-469 713.5,-469 713.5,-401 882.5,-401 882.5,-469\"/>\r\n",
       "<text text-anchor=\"middle\" x=\"798\" y=\"-453.8\" font-family=\"Times New Roman,serif\" font-size=\"14.00\">total sulfur dioxide &lt;= 15.5</text>\r\n",
       "<text text-anchor=\"middle\" x=\"798\" y=\"-438.8\" font-family=\"Times New Roman,serif\" font-size=\"14.00\">gini = 0.403</text>\r\n",
       "<text text-anchor=\"middle\" x=\"798\" y=\"-423.8\" font-family=\"Times New Roman,serif\" font-size=\"14.00\">samples = 86</text>\r\n",
       "<text text-anchor=\"middle\" x=\"798\" y=\"-408.8\" font-family=\"Times New Roman,serif\" font-size=\"14.00\">value = [2, 21, 63]</text>\r\n",
       "</g>\r\n",
       "<!-- 2&#45;&gt;3 -->\r\n",
       "<g id=\"edge19\" class=\"edge\"><title>2&#45;&gt;3</title>\r\n",
       "<path fill=\"none\" stroke=\"black\" d=\"M798,-504.884C798,-496.778 798,-487.982 798,-479.472\"/>\r\n",
       "<polygon fill=\"black\" stroke=\"black\" points=\"801.5,-479.299 798,-469.299 794.5,-479.299 801.5,-479.299\"/>\r\n",
       "</g>\r\n",
       "<!-- 4 -->\r\n",
       "<g id=\"node29\" class=\"node\"><title>4</title>\r\n",
       "<polygon fill=\"none\" stroke=\"black\" points=\"1335,-469 1169,-469 1169,-401 1335,-401 1335,-469\"/>\r\n",
       "<text text-anchor=\"middle\" x=\"1252\" y=\"-453.8\" font-family=\"Times New Roman,serif\" font-size=\"14.00\">free sulfur dioxide &lt;= 18.5</text>\r\n",
       "<text text-anchor=\"middle\" x=\"1252\" y=\"-438.8\" font-family=\"Times New Roman,serif\" font-size=\"14.00\">gini = 0.433</text>\r\n",
       "<text text-anchor=\"middle\" x=\"1252\" y=\"-423.8\" font-family=\"Times New Roman,serif\" font-size=\"14.00\">samples = 82</text>\r\n",
       "<text text-anchor=\"middle\" x=\"1252\" y=\"-408.8\" font-family=\"Times New Roman,serif\" font-size=\"14.00\">value = [0, 56, 26]</text>\r\n",
       "</g>\r\n",
       "<!-- 2&#45;&gt;4 -->\r\n",
       "<g id=\"edge28\" class=\"edge\"><title>2&#45;&gt;4</title>\r\n",
       "<path fill=\"none\" stroke=\"black\" d=\"M859.701,-524.138C936.817,-506.812 1069.52,-476.997 1158.99,-456.897\"/>\r\n",
       "<polygon fill=\"black\" stroke=\"black\" points=\"1159.87,-460.286 1168.86,-454.679 1158.34,-453.456 1159.87,-460.286\"/>\r\n",
       "</g>\r\n",
       "<!-- 15 -->\r\n",
       "<g id=\"node21\" class=\"node\"><title>15</title>\r\n",
       "<polygon fill=\"none\" stroke=\"black\" points=\"817,-365 695,-365 695,-297 817,-297 817,-365\"/>\r\n",
       "<text text-anchor=\"middle\" x=\"756\" y=\"-349.8\" font-family=\"Times New Roman,serif\" font-size=\"14.00\">chlorides &lt;= 0.067</text>\r\n",
       "<text text-anchor=\"middle\" x=\"756\" y=\"-334.8\" font-family=\"Times New Roman,serif\" font-size=\"14.00\">gini = 0.499</text>\r\n",
       "<text text-anchor=\"middle\" x=\"756\" y=\"-319.8\" font-family=\"Times New Roman,serif\" font-size=\"14.00\">samples = 19</text>\r\n",
       "<text text-anchor=\"middle\" x=\"756\" y=\"-304.8\" font-family=\"Times New Roman,serif\" font-size=\"14.00\">value = [0, 10, 9]</text>\r\n",
       "</g>\r\n",
       "<!-- 3&#45;&gt;15 -->\r\n",
       "<g id=\"edge20\" class=\"edge\"><title>3&#45;&gt;15</title>\r\n",
       "<path fill=\"none\" stroke=\"black\" d=\"M784.364,-400.884C780.916,-392.511 777.165,-383.401 773.554,-374.631\"/>\r\n",
       "<polygon fill=\"black\" stroke=\"black\" points=\"776.755,-373.214 769.712,-365.299 770.283,-375.879 776.755,-373.214\"/>\r\n",
       "</g>\r\n",
       "<!-- 16 -->\r\n",
       "<g id=\"node24\" class=\"node\"><title>16</title>\r\n",
       "<polygon fill=\"none\" stroke=\"black\" points=\"1001,-365 835,-365 835,-297 1001,-297 1001,-365\"/>\r\n",
       "<text text-anchor=\"middle\" x=\"918\" y=\"-349.8\" font-family=\"Times New Roman,serif\" font-size=\"14.00\">free sulfur dioxide &lt;= 31.5</text>\r\n",
       "<text text-anchor=\"middle\" x=\"918\" y=\"-334.8\" font-family=\"Times New Roman,serif\" font-size=\"14.00\">gini = 0.323</text>\r\n",
       "<text text-anchor=\"middle\" x=\"918\" y=\"-319.8\" font-family=\"Times New Roman,serif\" font-size=\"14.00\">samples = 67</text>\r\n",
       "<text text-anchor=\"middle\" x=\"918\" y=\"-304.8\" font-family=\"Times New Roman,serif\" font-size=\"14.00\">value = [2, 11, 54]</text>\r\n",
       "</g>\r\n",
       "<!-- 3&#45;&gt;16 -->\r\n",
       "<g id=\"edge23\" class=\"edge\"><title>3&#45;&gt;16</title>\r\n",
       "<path fill=\"none\" stroke=\"black\" d=\"M836.961,-400.884C847.859,-391.62 859.818,-381.455 871.123,-371.845\"/>\r\n",
       "<polygon fill=\"black\" stroke=\"black\" points=\"873.472,-374.443 878.824,-365.299 868.938,-369.109 873.472,-374.443\"/>\r\n",
       "</g>\r\n",
       "<!-- 19 -->\r\n",
       "<g id=\"node22\" class=\"node\"><title>19</title>\r\n",
       "<polygon fill=\"none\" stroke=\"black\" points=\"681.5,-253.5 576.5,-253.5 576.5,-200.5 681.5,-200.5 681.5,-253.5\"/>\r\n",
       "<text text-anchor=\"middle\" x=\"629\" y=\"-238.3\" font-family=\"Times New Roman,serif\" font-size=\"14.00\">gini = 0.0</text>\r\n",
       "<text text-anchor=\"middle\" x=\"629\" y=\"-223.3\" font-family=\"Times New Roman,serif\" font-size=\"14.00\">samples = 5</text>\r\n",
       "<text text-anchor=\"middle\" x=\"629\" y=\"-208.3\" font-family=\"Times New Roman,serif\" font-size=\"14.00\">value = [0, 0, 5]</text>\r\n",
       "</g>\r\n",
       "<!-- 15&#45;&gt;19 -->\r\n",
       "<g id=\"edge21\" class=\"edge\"><title>15&#45;&gt;19</title>\r\n",
       "<path fill=\"none\" stroke=\"black\" d=\"M714.767,-296.884C699.978,-285.006 683.344,-271.646 668.689,-259.876\"/>\r\n",
       "<polygon fill=\"black\" stroke=\"black\" points=\"670.763,-257.053 660.775,-253.52 666.38,-262.511 670.763,-257.053\"/>\r\n",
       "</g>\r\n",
       "<!-- 20 -->\r\n",
       "<g id=\"node23\" class=\"node\"><title>20</title>\r\n",
       "<polygon fill=\"none\" stroke=\"black\" points=\"812,-253.5 700,-253.5 700,-200.5 812,-200.5 812,-253.5\"/>\r\n",
       "<text text-anchor=\"middle\" x=\"756\" y=\"-238.3\" font-family=\"Times New Roman,serif\" font-size=\"14.00\">gini = 0.408</text>\r\n",
       "<text text-anchor=\"middle\" x=\"756\" y=\"-223.3\" font-family=\"Times New Roman,serif\" font-size=\"14.00\">samples = 14</text>\r\n",
       "<text text-anchor=\"middle\" x=\"756\" y=\"-208.3\" font-family=\"Times New Roman,serif\" font-size=\"14.00\">value = [0, 10, 4]</text>\r\n",
       "</g>\r\n",
       "<!-- 15&#45;&gt;20 -->\r\n",
       "<g id=\"edge22\" class=\"edge\"><title>15&#45;&gt;20</title>\r\n",
       "<path fill=\"none\" stroke=\"black\" d=\"M756,-296.884C756,-286.326 756,-274.597 756,-263.854\"/>\r\n",
       "<polygon fill=\"black\" stroke=\"black\" points=\"759.5,-263.52 756,-253.52 752.5,-263.52 759.5,-263.52\"/>\r\n",
       "</g>\r\n",
       "<!-- 17 -->\r\n",
       "<g id=\"node25\" class=\"node\"><title>17</title>\r\n",
       "<polygon fill=\"none\" stroke=\"black\" points=\"942,-253.5 830,-253.5 830,-200.5 942,-200.5 942,-253.5\"/>\r\n",
       "<text text-anchor=\"middle\" x=\"886\" y=\"-238.3\" font-family=\"Times New Roman,serif\" font-size=\"14.00\">gini = 0.238</text>\r\n",
       "<text text-anchor=\"middle\" x=\"886\" y=\"-223.3\" font-family=\"Times New Roman,serif\" font-size=\"14.00\">samples = 60</text>\r\n",
       "<text text-anchor=\"middle\" x=\"886\" y=\"-208.3\" font-family=\"Times New Roman,serif\" font-size=\"14.00\">value = [2, 6, 52]</text>\r\n",
       "</g>\r\n",
       "<!-- 16&#45;&gt;17 -->\r\n",
       "<g id=\"edge24\" class=\"edge\"><title>16&#45;&gt;17</title>\r\n",
       "<path fill=\"none\" stroke=\"black\" d=\"M907.611,-296.884C904.229,-286.106 900.465,-274.108 897.038,-263.184\"/>\r\n",
       "<polygon fill=\"black\" stroke=\"black\" points=\"900.339,-262.014 894.006,-253.52 893.66,-264.109 900.339,-262.014\"/>\r\n",
       "</g>\r\n",
       "<!-- 18 -->\r\n",
       "<g id=\"node26\" class=\"node\"><title>18</title>\r\n",
       "<polygon fill=\"none\" stroke=\"black\" points=\"1111.5,-261 960.5,-261 960.5,-193 1111.5,-193 1111.5,-261\"/>\r\n",
       "<text text-anchor=\"middle\" x=\"1036\" y=\"-245.8\" font-family=\"Times New Roman,serif\" font-size=\"14.00\">volatile acidity &lt;= 0.245</text>\r\n",
       "<text text-anchor=\"middle\" x=\"1036\" y=\"-230.8\" font-family=\"Times New Roman,serif\" font-size=\"14.00\">gini = 0.408</text>\r\n",
       "<text text-anchor=\"middle\" x=\"1036\" y=\"-215.8\" font-family=\"Times New Roman,serif\" font-size=\"14.00\">samples = 7</text>\r\n",
       "<text text-anchor=\"middle\" x=\"1036\" y=\"-200.8\" font-family=\"Times New Roman,serif\" font-size=\"14.00\">value = [0, 5, 2]</text>\r\n",
       "</g>\r\n",
       "<!-- 16&#45;&gt;18 -->\r\n",
       "<g id=\"edge25\" class=\"edge\"><title>16&#45;&gt;18</title>\r\n",
       "<path fill=\"none\" stroke=\"black\" d=\"M956.311,-296.884C967.028,-287.62 978.788,-277.455 989.904,-267.845\"/>\r\n",
       "<polygon fill=\"black\" stroke=\"black\" points=\"992.201,-270.487 997.477,-261.299 987.623,-265.191 992.201,-270.487\"/>\r\n",
       "</g>\r\n",
       "<!-- 29 -->\r\n",
       "<g id=\"node27\" class=\"node\"><title>29</title>\r\n",
       "<polygon fill=\"none\" stroke=\"black\" points=\"982.5,-149.5 877.5,-149.5 877.5,-96.5 982.5,-96.5 982.5,-149.5\"/>\r\n",
       "<text text-anchor=\"middle\" x=\"930\" y=\"-134.3\" font-family=\"Times New Roman,serif\" font-size=\"14.00\">gini = 0.0</text>\r\n",
       "<text text-anchor=\"middle\" x=\"930\" y=\"-119.3\" font-family=\"Times New Roman,serif\" font-size=\"14.00\">samples = 2</text>\r\n",
       "<text text-anchor=\"middle\" x=\"930\" y=\"-104.3\" font-family=\"Times New Roman,serif\" font-size=\"14.00\">value = [0, 0, 2]</text>\r\n",
       "</g>\r\n",
       "<!-- 18&#45;&gt;29 -->\r\n",
       "<g id=\"edge26\" class=\"edge\"><title>18&#45;&gt;29</title>\r\n",
       "<path fill=\"none\" stroke=\"black\" d=\"M1001.58,-192.884C989.47,-181.226 975.872,-168.141 963.807,-156.532\"/>\r\n",
       "<polygon fill=\"black\" stroke=\"black\" points=\"966.153,-153.932 956.521,-149.52 961.3,-158.976 966.153,-153.932\"/>\r\n",
       "</g>\r\n",
       "<!-- 30 -->\r\n",
       "<g id=\"node28\" class=\"node\"><title>30</title>\r\n",
       "<polygon fill=\"none\" stroke=\"black\" points=\"1105.5,-149.5 1000.5,-149.5 1000.5,-96.5 1105.5,-96.5 1105.5,-149.5\"/>\r\n",
       "<text text-anchor=\"middle\" x=\"1053\" y=\"-134.3\" font-family=\"Times New Roman,serif\" font-size=\"14.00\">gini = 0.0</text>\r\n",
       "<text text-anchor=\"middle\" x=\"1053\" y=\"-119.3\" font-family=\"Times New Roman,serif\" font-size=\"14.00\">samples = 5</text>\r\n",
       "<text text-anchor=\"middle\" x=\"1053\" y=\"-104.3\" font-family=\"Times New Roman,serif\" font-size=\"14.00\">value = [0, 5, 0]</text>\r\n",
       "</g>\r\n",
       "<!-- 18&#45;&gt;30 -->\r\n",
       "<g id=\"edge27\" class=\"edge\"><title>18&#45;&gt;30</title>\r\n",
       "<path fill=\"none\" stroke=\"black\" d=\"M1041.52,-192.884C1043.3,-182.216 1045.27,-170.352 1047.08,-159.519\"/>\r\n",
       "<polygon fill=\"black\" stroke=\"black\" points=\"1050.55,-159.959 1048.75,-149.52 1043.65,-158.808 1050.55,-159.959\"/>\r\n",
       "</g>\r\n",
       "<!-- 23 -->\r\n",
       "<g id=\"node30\" class=\"node\"><title>23</title>\r\n",
       "<polygon fill=\"none\" stroke=\"black\" points=\"1311.5,-365 1192.5,-365 1192.5,-297 1311.5,-297 1311.5,-365\"/>\r\n",
       "<text text-anchor=\"middle\" x=\"1252\" y=\"-349.8\" font-family=\"Times New Roman,serif\" font-size=\"14.00\">density &lt;= 0.995</text>\r\n",
       "<text text-anchor=\"middle\" x=\"1252\" y=\"-334.8\" font-family=\"Times New Roman,serif\" font-size=\"14.00\">gini = 0.334</text>\r\n",
       "<text text-anchor=\"middle\" x=\"1252\" y=\"-319.8\" font-family=\"Times New Roman,serif\" font-size=\"14.00\">samples = 52</text>\r\n",
       "<text text-anchor=\"middle\" x=\"1252\" y=\"-304.8\" font-family=\"Times New Roman,serif\" font-size=\"14.00\">value = [0, 41, 11]</text>\r\n",
       "</g>\r\n",
       "<!-- 4&#45;&gt;23 -->\r\n",
       "<g id=\"edge29\" class=\"edge\"><title>4&#45;&gt;23</title>\r\n",
       "<path fill=\"none\" stroke=\"black\" d=\"M1252,-400.884C1252,-392.778 1252,-383.982 1252,-375.472\"/>\r\n",
       "<polygon fill=\"black\" stroke=\"black\" points=\"1255.5,-375.299 1252,-365.299 1248.5,-375.299 1255.5,-375.299\"/>\r\n",
       "</g>\r\n",
       "<!-- 24 -->\r\n",
       "<g id=\"node35\" class=\"node\"><title>24</title>\r\n",
       "<polygon fill=\"none\" stroke=\"black\" points=\"1515.5,-365 1396.5,-365 1396.5,-297 1515.5,-297 1515.5,-365\"/>\r\n",
       "<text text-anchor=\"middle\" x=\"1456\" y=\"-349.8\" font-family=\"Times New Roman,serif\" font-size=\"14.00\">pH &lt;= 3.365</text>\r\n",
       "<text text-anchor=\"middle\" x=\"1456\" y=\"-334.8\" font-family=\"Times New Roman,serif\" font-size=\"14.00\">gini = 0.5</text>\r\n",
       "<text text-anchor=\"middle\" x=\"1456\" y=\"-319.8\" font-family=\"Times New Roman,serif\" font-size=\"14.00\">samples = 30</text>\r\n",
       "<text text-anchor=\"middle\" x=\"1456\" y=\"-304.8\" font-family=\"Times New Roman,serif\" font-size=\"14.00\">value = [0, 15, 15]</text>\r\n",
       "</g>\r\n",
       "<!-- 4&#45;&gt;24 -->\r\n",
       "<g id=\"edge34\" class=\"edge\"><title>4&#45;&gt;24</title>\r\n",
       "<path fill=\"none\" stroke=\"black\" d=\"M1318.23,-400.884C1340.32,-389.84 1364.97,-377.516 1387.24,-366.379\"/>\r\n",
       "<polygon fill=\"black\" stroke=\"black\" points=\"1388.92,-369.452 1396.3,-361.85 1385.79,-363.191 1388.92,-369.452\"/>\r\n",
       "</g>\r\n",
       "<!-- 31 -->\r\n",
       "<g id=\"node31\" class=\"node\"><title>31</title>\r\n",
       "<polygon fill=\"none\" stroke=\"black\" points=\"1242,-253.5 1130,-253.5 1130,-200.5 1242,-200.5 1242,-253.5\"/>\r\n",
       "<text text-anchor=\"middle\" x=\"1186\" y=\"-238.3\" font-family=\"Times New Roman,serif\" font-size=\"14.00\">gini = 0.0</text>\r\n",
       "<text text-anchor=\"middle\" x=\"1186\" y=\"-223.3\" font-family=\"Times New Roman,serif\" font-size=\"14.00\">samples = 19</text>\r\n",
       "<text text-anchor=\"middle\" x=\"1186\" y=\"-208.3\" font-family=\"Times New Roman,serif\" font-size=\"14.00\">value = [0, 19, 0]</text>\r\n",
       "</g>\r\n",
       "<!-- 23&#45;&gt;31 -->\r\n",
       "<g id=\"edge30\" class=\"edge\"><title>23&#45;&gt;31</title>\r\n",
       "<path fill=\"none\" stroke=\"black\" d=\"M1230.57,-296.884C1223.38,-285.776 1215.36,-273.372 1208.12,-262.184\"/>\r\n",
       "<polygon fill=\"black\" stroke=\"black\" points=\"1210.88,-260.014 1202.51,-253.52 1205.01,-263.817 1210.88,-260.014\"/>\r\n",
       "</g>\r\n",
       "<!-- 32 -->\r\n",
       "<g id=\"node32\" class=\"node\"><title>32</title>\r\n",
       "<polygon fill=\"none\" stroke=\"black\" points=\"1382,-261 1260,-261 1260,-193 1382,-193 1382,-261\"/>\r\n",
       "<text text-anchor=\"middle\" x=\"1321\" y=\"-245.8\" font-family=\"Times New Roman,serif\" font-size=\"14.00\">chlorides &lt;= 0.054</text>\r\n",
       "<text text-anchor=\"middle\" x=\"1321\" y=\"-230.8\" font-family=\"Times New Roman,serif\" font-size=\"14.00\">gini = 0.444</text>\r\n",
       "<text text-anchor=\"middle\" x=\"1321\" y=\"-215.8\" font-family=\"Times New Roman,serif\" font-size=\"14.00\">samples = 33</text>\r\n",
       "<text text-anchor=\"middle\" x=\"1321\" y=\"-200.8\" font-family=\"Times New Roman,serif\" font-size=\"14.00\">value = [0, 22, 11]</text>\r\n",
       "</g>\r\n",
       "<!-- 23&#45;&gt;32 -->\r\n",
       "<g id=\"edge31\" class=\"edge\"><title>23&#45;&gt;32</title>\r\n",
       "<path fill=\"none\" stroke=\"black\" d=\"M1274.4,-296.884C1280.25,-288.243 1286.62,-278.819 1292.73,-269.793\"/>\r\n",
       "<polygon fill=\"black\" stroke=\"black\" points=\"1295.77,-271.543 1298.47,-261.299 1289.97,-267.621 1295.77,-271.543\"/>\r\n",
       "</g>\r\n",
       "<!-- 33 -->\r\n",
       "<g id=\"node33\" class=\"node\"><title>33</title>\r\n",
       "<polygon fill=\"none\" stroke=\"black\" points=\"1247.5,-149.5 1142.5,-149.5 1142.5,-96.5 1247.5,-96.5 1247.5,-149.5\"/>\r\n",
       "<text text-anchor=\"middle\" x=\"1195\" y=\"-134.3\" font-family=\"Times New Roman,serif\" font-size=\"14.00\">gini = 0.0</text>\r\n",
       "<text text-anchor=\"middle\" x=\"1195\" y=\"-119.3\" font-family=\"Times New Roman,serif\" font-size=\"14.00\">samples = 3</text>\r\n",
       "<text text-anchor=\"middle\" x=\"1195\" y=\"-104.3\" font-family=\"Times New Roman,serif\" font-size=\"14.00\">value = [0, 0, 3]</text>\r\n",
       "</g>\r\n",
       "<!-- 32&#45;&gt;33 -->\r\n",
       "<g id=\"edge32\" class=\"edge\"><title>32&#45;&gt;33</title>\r\n",
       "<path fill=\"none\" stroke=\"black\" d=\"M1280.09,-192.884C1265.42,-181.006 1248.92,-167.646 1234.38,-155.876\"/>\r\n",
       "<polygon fill=\"black\" stroke=\"black\" points=\"1236.5,-153.092 1226.52,-149.52 1232.09,-158.532 1236.5,-153.092\"/>\r\n",
       "</g>\r\n",
       "<!-- 34 -->\r\n",
       "<g id=\"node34\" class=\"node\"><title>34</title>\r\n",
       "<polygon fill=\"none\" stroke=\"black\" points=\"1378,-149.5 1266,-149.5 1266,-96.5 1378,-96.5 1378,-149.5\"/>\r\n",
       "<text text-anchor=\"middle\" x=\"1322\" y=\"-134.3\" font-family=\"Times New Roman,serif\" font-size=\"14.00\">gini = 0.391</text>\r\n",
       "<text text-anchor=\"middle\" x=\"1322\" y=\"-119.3\" font-family=\"Times New Roman,serif\" font-size=\"14.00\">samples = 30</text>\r\n",
       "<text text-anchor=\"middle\" x=\"1322\" y=\"-104.3\" font-family=\"Times New Roman,serif\" font-size=\"14.00\">value = [0, 22, 8]</text>\r\n",
       "</g>\r\n",
       "<!-- 32&#45;&gt;34 -->\r\n",
       "<g id=\"edge33\" class=\"edge\"><title>32&#45;&gt;34</title>\r\n",
       "<path fill=\"none\" stroke=\"black\" d=\"M1321.32,-192.884C1321.43,-182.326 1321.54,-170.597 1321.65,-159.854\"/>\r\n",
       "<polygon fill=\"black\" stroke=\"black\" points=\"1325.15,-159.554 1321.75,-149.52 1318.15,-159.485 1325.15,-159.554\"/>\r\n",
       "</g>\r\n",
       "<!-- 25 -->\r\n",
       "<g id=\"node36\" class=\"node\"><title>25</title>\r\n",
       "<polygon fill=\"none\" stroke=\"black\" points=\"1512,-261 1400,-261 1400,-193 1512,-193 1512,-261\"/>\r\n",
       "<text text-anchor=\"middle\" x=\"1456\" y=\"-245.8\" font-family=\"Times New Roman,serif\" font-size=\"14.00\">alcohol &lt;= 12.7</text>\r\n",
       "<text text-anchor=\"middle\" x=\"1456\" y=\"-230.8\" font-family=\"Times New Roman,serif\" font-size=\"14.00\">gini = 0.415</text>\r\n",
       "<text text-anchor=\"middle\" x=\"1456\" y=\"-215.8\" font-family=\"Times New Roman,serif\" font-size=\"14.00\">samples = 17</text>\r\n",
       "<text text-anchor=\"middle\" x=\"1456\" y=\"-200.8\" font-family=\"Times New Roman,serif\" font-size=\"14.00\">value = [0, 12, 5]</text>\r\n",
       "</g>\r\n",
       "<!-- 24&#45;&gt;25 -->\r\n",
       "<g id=\"edge35\" class=\"edge\"><title>24&#45;&gt;25</title>\r\n",
       "<path fill=\"none\" stroke=\"black\" d=\"M1456,-296.884C1456,-288.778 1456,-279.982 1456,-271.472\"/>\r\n",
       "<polygon fill=\"black\" stroke=\"black\" points=\"1459.5,-271.299 1456,-261.299 1452.5,-271.299 1459.5,-271.299\"/>\r\n",
       "</g>\r\n",
       "<!-- 26 -->\r\n",
       "<g id=\"node39\" class=\"node\"><title>26</title>\r\n",
       "<polygon fill=\"none\" stroke=\"black\" points=\"1642,-253.5 1530,-253.5 1530,-200.5 1642,-200.5 1642,-253.5\"/>\r\n",
       "<text text-anchor=\"middle\" x=\"1586\" y=\"-238.3\" font-family=\"Times New Roman,serif\" font-size=\"14.00\">gini = 0.355</text>\r\n",
       "<text text-anchor=\"middle\" x=\"1586\" y=\"-223.3\" font-family=\"Times New Roman,serif\" font-size=\"14.00\">samples = 13</text>\r\n",
       "<text text-anchor=\"middle\" x=\"1586\" y=\"-208.3\" font-family=\"Times New Roman,serif\" font-size=\"14.00\">value = [0, 3, 10]</text>\r\n",
       "</g>\r\n",
       "<!-- 24&#45;&gt;26 -->\r\n",
       "<g id=\"edge38\" class=\"edge\"><title>24&#45;&gt;26</title>\r\n",
       "<path fill=\"none\" stroke=\"black\" d=\"M1498.21,-296.884C1513.35,-285.006 1530.37,-271.646 1545.37,-259.876\"/>\r\n",
       "<polygon fill=\"black\" stroke=\"black\" points=\"1547.77,-262.446 1553.47,-253.52 1543.45,-256.939 1547.77,-262.446\"/>\r\n",
       "</g>\r\n",
       "<!-- 27 -->\r\n",
       "<g id=\"node37\" class=\"node\"><title>27</title>\r\n",
       "<polygon fill=\"none\" stroke=\"black\" points=\"1510,-149.5 1398,-149.5 1398,-96.5 1510,-96.5 1510,-149.5\"/>\r\n",
       "<text text-anchor=\"middle\" x=\"1454\" y=\"-134.3\" font-family=\"Times New Roman,serif\" font-size=\"14.00\">gini = 0.153</text>\r\n",
       "<text text-anchor=\"middle\" x=\"1454\" y=\"-119.3\" font-family=\"Times New Roman,serif\" font-size=\"14.00\">samples = 12</text>\r\n",
       "<text text-anchor=\"middle\" x=\"1454\" y=\"-104.3\" font-family=\"Times New Roman,serif\" font-size=\"14.00\">value = [0, 11, 1]</text>\r\n",
       "</g>\r\n",
       "<!-- 25&#45;&gt;27 -->\r\n",
       "<g id=\"edge36\" class=\"edge\"><title>25&#45;&gt;27</title>\r\n",
       "<path fill=\"none\" stroke=\"black\" d=\"M1455.35,-192.884C1455.14,-182.216 1454.91,-170.352 1454.7,-159.519\"/>\r\n",
       "<polygon fill=\"black\" stroke=\"black\" points=\"1458.2,-159.449 1454.5,-149.52 1451.2,-159.587 1458.2,-159.449\"/>\r\n",
       "</g>\r\n",
       "<!-- 28 -->\r\n",
       "<g id=\"node38\" class=\"node\"><title>28</title>\r\n",
       "<polygon fill=\"none\" stroke=\"black\" points=\"1633.5,-149.5 1528.5,-149.5 1528.5,-96.5 1633.5,-96.5 1633.5,-149.5\"/>\r\n",
       "<text text-anchor=\"middle\" x=\"1581\" y=\"-134.3\" font-family=\"Times New Roman,serif\" font-size=\"14.00\">gini = 0.32</text>\r\n",
       "<text text-anchor=\"middle\" x=\"1581\" y=\"-119.3\" font-family=\"Times New Roman,serif\" font-size=\"14.00\">samples = 5</text>\r\n",
       "<text text-anchor=\"middle\" x=\"1581\" y=\"-104.3\" font-family=\"Times New Roman,serif\" font-size=\"14.00\">value = [0, 1, 4]</text>\r\n",
       "</g>\r\n",
       "<!-- 25&#45;&gt;28 -->\r\n",
       "<g id=\"edge37\" class=\"edge\"><title>25&#45;&gt;28</title>\r\n",
       "<path fill=\"none\" stroke=\"black\" d=\"M1496.58,-192.884C1511.14,-181.006 1527.51,-167.646 1541.94,-155.876\"/>\r\n",
       "<polygon fill=\"black\" stroke=\"black\" points=\"1544.19,-158.554 1549.73,-149.52 1539.76,-153.13 1544.19,-158.554\"/>\r\n",
       "</g>\r\n",
       "</g>\r\n",
       "</svg>\r\n"
      ],
      "text/plain": [
       "<graphviz.files.Source at 0x5323eb0>"
      ]
     },
     "execution_count": 64,
     "metadata": {},
     "output_type": "execute_result"
    }
   ],
   "source": [
    "Source(tree.export_graphviz(data_quality, out_file=None, feature_names=X.columns))\n"
   ]
  },
  {
   "cell_type": "code",
   "execution_count": 65,
   "metadata": {},
   "outputs": [
    {
     "name": "stdout",
     "output_type": "stream",
     "text": [
      "['good' 'good' 'good' 'excellent' 'good' 'good' 'good' 'good' 'good'\n",
      " 'good']\n",
      "--------------------\n",
      "1144         good\n",
      "1532         good\n",
      "618          good\n",
      "205     excellent\n",
      "1384         good\n",
      "884          good\n",
      "523          good\n",
      "879          good\n",
      "791          good\n",
      "37      excellent\n",
      "Name: quality_label, dtype: object\n"
     ]
    }
   ],
   "source": [
    "#prediction on test data\n",
    "prediction = data_quality.predict(X_test)\n",
    "print(prediction[:10])\n",
    "print('-'*20)\n",
    "print(y_test['quality_label'][:10])"
   ]
  },
  {
   "cell_type": "code",
   "execution_count": 66,
   "metadata": {},
   "outputs": [],
   "source": [
    "data_read = export_text(data_quality, feature_names = ['fixed acidity','volatile acidity','citric acid','residual sugar','chlorides',\n",
    "            'free sulfur dioxide','total sulfur dioxide','density','pH','sulphates','alcohol'])"
   ]
  },
  {
   "cell_type": "code",
   "execution_count": 67,
   "metadata": {},
   "outputs": [
    {
     "name": "stdout",
     "output_type": "stream",
     "text": [
      "|--- alcohol <= 11.55\n",
      "|   |--- volatile acidity <= 0.38\n",
      "|   |   |--- alcohol <= 10.45\n",
      "|   |   |   |--- fixed acidity <= 14.65\n",
      "|   |   |   |   |--- class: good\n",
      "|   |   |   |--- fixed acidity >  14.65\n",
      "|   |   |   |   |--- class: excellent\n",
      "|   |   |--- alcohol >  10.45\n",
      "|   |   |   |--- pH <= 3.26\n",
      "|   |   |   |   |--- residual sugar <= 2.95\n",
      "|   |   |   |   |   |--- class: excellent\n",
      "|   |   |   |   |--- residual sugar >  2.95\n",
      "|   |   |   |   |   |--- class: good\n",
      "|   |   |   |--- pH >  3.26\n",
      "|   |   |   |   |--- fixed acidity <= 11.55\n",
      "|   |   |   |   |   |--- pH <= 3.40\n",
      "|   |   |   |   |   |   |--- class: good\n",
      "|   |   |   |   |   |--- pH >  3.40\n",
      "|   |   |   |   |   |   |--- class: excellent\n",
      "|   |   |   |   |--- fixed acidity >  11.55\n",
      "|   |   |   |   |   |--- class: excellent\n",
      "|   |--- volatile acidity >  0.38\n",
      "|   |   |--- volatile acidity <= 0.91\n",
      "|   |   |   |--- class: good\n",
      "|   |   |--- volatile acidity >  0.91\n",
      "|   |   |   |--- class: good\n",
      "|--- alcohol >  11.55\n",
      "|   |--- sulphates <= 0.69\n",
      "|   |   |--- total sulfur dioxide <= 15.50\n",
      "|   |   |   |--- chlorides <= 0.07\n",
      "|   |   |   |   |--- class: good\n",
      "|   |   |   |--- chlorides >  0.07\n",
      "|   |   |   |   |--- class: excellent\n",
      "|   |   |--- total sulfur dioxide >  15.50\n",
      "|   |   |   |--- free sulfur dioxide <= 31.50\n",
      "|   |   |   |   |--- class: good\n",
      "|   |   |   |--- free sulfur dioxide >  31.50\n",
      "|   |   |   |   |--- volatile acidity <= 0.24\n",
      "|   |   |   |   |   |--- class: good\n",
      "|   |   |   |   |--- volatile acidity >  0.24\n",
      "|   |   |   |   |   |--- class: excellent\n",
      "|   |--- sulphates >  0.69\n",
      "|   |   |--- free sulfur dioxide <= 18.50\n",
      "|   |   |   |--- density <= 0.99\n",
      "|   |   |   |   |--- class: excellent\n",
      "|   |   |   |--- density >  0.99\n",
      "|   |   |   |   |--- chlorides <= 0.05\n",
      "|   |   |   |   |   |--- class: good\n",
      "|   |   |   |   |--- chlorides >  0.05\n",
      "|   |   |   |   |   |--- class: excellent\n",
      "|   |   |--- free sulfur dioxide >  18.50\n",
      "|   |   |   |--- pH <= 3.37\n",
      "|   |   |   |   |--- alcohol <= 12.70\n",
      "|   |   |   |   |   |--- class: excellent\n",
      "|   |   |   |   |--- alcohol >  12.70\n",
      "|   |   |   |   |   |--- class: good\n",
      "|   |   |   |--- pH >  3.37\n",
      "|   |   |   |   |--- class: good\n",
      "\n"
     ]
    }
   ],
   "source": [
    "print(data_read)"
   ]
  },
  {
   "cell_type": "code",
   "execution_count": 68,
   "metadata": {},
   "outputs": [
    {
     "data": {
      "text/plain": [
       "0.8636363636363636"
      ]
     },
     "execution_count": 68,
     "metadata": {},
     "output_type": "execute_result"
    }
   ],
   "source": [
    "#measure the accuracy\n",
    "accuracy_score(y_true=y_test, y_pred=prediction)"
   ]
  },
  {
   "cell_type": "code",
   "execution_count": 69,
   "metadata": {},
   "outputs": [],
   "source": [
    "#Logistic regression\n",
    "from sklearn.linear_model import LogisticRegression"
   ]
  },
  {
   "cell_type": "code",
   "execution_count": 70,
   "metadata": {},
   "outputs": [
    {
     "data": {
      "text/html": [
       "<div>\n",
       "<style scoped>\n",
       "    .dataframe tbody tr th:only-of-type {\n",
       "        vertical-align: middle;\n",
       "    }\n",
       "\n",
       "    .dataframe tbody tr th {\n",
       "        vertical-align: top;\n",
       "    }\n",
       "\n",
       "    .dataframe thead th {\n",
       "        text-align: right;\n",
       "    }\n",
       "</style>\n",
       "<table border=\"1\" class=\"dataframe\">\n",
       "  <thead>\n",
       "    <tr style=\"text-align: right;\">\n",
       "      <th></th>\n",
       "      <th>fixed acidity</th>\n",
       "      <th>volatile acidity</th>\n",
       "      <th>citric acid</th>\n",
       "      <th>residual sugar</th>\n",
       "      <th>chlorides</th>\n",
       "      <th>free sulfur dioxide</th>\n",
       "      <th>total sulfur dioxide</th>\n",
       "      <th>density</th>\n",
       "      <th>pH</th>\n",
       "      <th>sulphates</th>\n",
       "      <th>alcohol</th>\n",
       "      <th>quality</th>\n",
       "      <th>quality_label</th>\n",
       "    </tr>\n",
       "  </thead>\n",
       "  <tbody>\n",
       "    <tr>\n",
       "      <th>0</th>\n",
       "      <td>7.4</td>\n",
       "      <td>0.70</td>\n",
       "      <td>0.00</td>\n",
       "      <td>1.9</td>\n",
       "      <td>0.076</td>\n",
       "      <td>11.0</td>\n",
       "      <td>34.0</td>\n",
       "      <td>0.9978</td>\n",
       "      <td>3.51</td>\n",
       "      <td>0.56</td>\n",
       "      <td>9.4</td>\n",
       "      <td>5</td>\n",
       "      <td>good</td>\n",
       "    </tr>\n",
       "    <tr>\n",
       "      <th>1</th>\n",
       "      <td>7.8</td>\n",
       "      <td>0.88</td>\n",
       "      <td>0.00</td>\n",
       "      <td>2.6</td>\n",
       "      <td>0.098</td>\n",
       "      <td>25.0</td>\n",
       "      <td>67.0</td>\n",
       "      <td>0.9968</td>\n",
       "      <td>3.20</td>\n",
       "      <td>0.68</td>\n",
       "      <td>9.8</td>\n",
       "      <td>5</td>\n",
       "      <td>good</td>\n",
       "    </tr>\n",
       "    <tr>\n",
       "      <th>2</th>\n",
       "      <td>7.8</td>\n",
       "      <td>0.76</td>\n",
       "      <td>0.04</td>\n",
       "      <td>2.3</td>\n",
       "      <td>0.092</td>\n",
       "      <td>15.0</td>\n",
       "      <td>54.0</td>\n",
       "      <td>0.9970</td>\n",
       "      <td>3.26</td>\n",
       "      <td>0.65</td>\n",
       "      <td>9.8</td>\n",
       "      <td>5</td>\n",
       "      <td>good</td>\n",
       "    </tr>\n",
       "    <tr>\n",
       "      <th>3</th>\n",
       "      <td>11.2</td>\n",
       "      <td>0.28</td>\n",
       "      <td>0.56</td>\n",
       "      <td>1.9</td>\n",
       "      <td>0.075</td>\n",
       "      <td>17.0</td>\n",
       "      <td>60.0</td>\n",
       "      <td>0.9980</td>\n",
       "      <td>3.16</td>\n",
       "      <td>0.58</td>\n",
       "      <td>9.8</td>\n",
       "      <td>6</td>\n",
       "      <td>good</td>\n",
       "    </tr>\n",
       "    <tr>\n",
       "      <th>4</th>\n",
       "      <td>7.4</td>\n",
       "      <td>0.70</td>\n",
       "      <td>0.00</td>\n",
       "      <td>1.9</td>\n",
       "      <td>0.076</td>\n",
       "      <td>11.0</td>\n",
       "      <td>34.0</td>\n",
       "      <td>0.9978</td>\n",
       "      <td>3.51</td>\n",
       "      <td>0.56</td>\n",
       "      <td>9.4</td>\n",
       "      <td>5</td>\n",
       "      <td>good</td>\n",
       "    </tr>\n",
       "  </tbody>\n",
       "</table>\n",
       "</div>"
      ],
      "text/plain": [
       "   fixed acidity  volatile acidity  citric acid  residual sugar  chlorides  \\\n",
       "0            7.4              0.70         0.00             1.9      0.076   \n",
       "1            7.8              0.88         0.00             2.6      0.098   \n",
       "2            7.8              0.76         0.04             2.3      0.092   \n",
       "3           11.2              0.28         0.56             1.9      0.075   \n",
       "4            7.4              0.70         0.00             1.9      0.076   \n",
       "\n",
       "   free sulfur dioxide  total sulfur dioxide  density    pH  sulphates  \\\n",
       "0                 11.0                  34.0   0.9978  3.51       0.56   \n",
       "1                 25.0                  67.0   0.9968  3.20       0.68   \n",
       "2                 15.0                  54.0   0.9970  3.26       0.65   \n",
       "3                 17.0                  60.0   0.9980  3.16       0.58   \n",
       "4                 11.0                  34.0   0.9978  3.51       0.56   \n",
       "\n",
       "   alcohol  quality quality_label  \n",
       "0      9.4        5          good  \n",
       "1      9.8        5          good  \n",
       "2      9.8        5          good  \n",
       "3      9.8        6          good  \n",
       "4      9.4        5          good  "
      ]
     },
     "execution_count": 70,
     "metadata": {},
     "output_type": "execute_result"
    }
   ],
   "source": [
    "data.head()"
   ]
  },
  {
   "cell_type": "code",
   "execution_count": 71,
   "metadata": {},
   "outputs": [],
   "source": [
    "features = ['fixed acidity','volatile acidity','citric acid','residual sugar','chlorides',\n",
    "            'free sulfur dioxide','total sulfur dioxide','density','pH','sulphates','alcohol']\n",
    "target_classifier = ['quality_label']"
   ]
  },
  {
   "cell_type": "code",
   "execution_count": 72,
   "metadata": {},
   "outputs": [],
   "source": [
    "X = data[features]\n",
    "y = data[target_classifier]"
   ]
  },
  {
   "cell_type": "code",
   "execution_count": 73,
   "metadata": {},
   "outputs": [],
   "source": [
    "X_train, X_test, y_train, y_test = train_test_split(X, y, test_size=0.33, random_state=324)"
   ]
  },
  {
   "cell_type": "code",
   "execution_count": 81,
   "metadata": {},
   "outputs": [
    {
     "data": {
      "text/plain": [
       "LogisticRegression(C=1.0, class_weight=None, dual=False, fit_intercept=True,\n",
       "                   intercept_scaling=1, l1_ratio=None, max_iter=100,\n",
       "                   multi_class='warn', n_jobs=None, penalty='l2',\n",
       "                   random_state=None, solver='warn', tol=0.0001, verbose=0,\n",
       "                   warm_start=False)"
      ]
     },
     "execution_count": 81,
     "metadata": {},
     "output_type": "execute_result"
    }
   ],
   "source": [
    "logistic_regression = LogisticRegression()\n",
    "logistic_regression.fit(X_train, y_train)"
   ]
  },
  {
   "cell_type": "code",
   "execution_count": 75,
   "metadata": {},
   "outputs": [
    {
     "name": "stdout",
     "output_type": "stream",
     "text": [
      "['good' 'good' 'good' 'good' 'good' 'good' 'good' 'good' 'good' 'good']\n",
      "     quality_label\n",
      "1144          good\n",
      "1532          good\n",
      "618           good\n",
      "205      excellent\n",
      "1384          good\n",
      "884           good\n",
      "523           good\n",
      "879           good\n",
      "791           good\n",
      "37       excellent\n"
     ]
    }
   ],
   "source": [
    "prediction = logistic_regression.predict(X_test)\n",
    "print(prediction[:10])\n",
    "print(y_test[:10])"
   ]
  },
  {
   "cell_type": "code",
   "execution_count": 76,
   "metadata": {},
   "outputs": [
    {
     "data": {
      "text/plain": [
       "0.8390151515151515"
      ]
     },
     "execution_count": 76,
     "metadata": {},
     "output_type": "execute_result"
    }
   ],
   "source": [
    "#measure the accuracy\n",
    "accuracy_score(y_true=y_test, y_pred=prediction)"
   ]
  },
  {
   "cell_type": "code",
   "execution_count": null,
   "metadata": {},
   "outputs": [],
   "source": []
  },
  {
   "cell_type": "code",
   "execution_count": null,
   "metadata": {},
   "outputs": [],
   "source": []
  }
 ],
 "metadata": {
  "kernelspec": {
   "display_name": "Python 3",
   "language": "python",
   "name": "python3"
  },
  "language_info": {
   "codemirror_mode": {
    "name": "ipython",
    "version": 3
   },
   "file_extension": ".py",
   "mimetype": "text/x-python",
   "name": "python",
   "nbconvert_exporter": "python",
   "pygments_lexer": "ipython3",
   "version": "3.7.2"
  }
 },
 "nbformat": 4,
 "nbformat_minor": 2
}
