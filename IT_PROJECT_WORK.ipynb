{
 "cells": [
  {
   "cell_type": "code",
   "execution_count": 1,
   "metadata": {},
   "outputs": [],
   "source": [
    "import numpy as np\n",
    "import pandas as pd\n",
    "from sklearn.model_selection import train_test_split\n",
    "from sklearn.metrics import mean_squared_error\n",
    "from sklearn.metrics import accuracy_score\n",
    "from sklearn.linear_model import LinearRegression\n",
    "from sklearn.tree import DecisionTreeRegressor\n",
    "from sklearn.tree import export_text\n",
    "from math import sqrt\n",
    "import seaborn as sns\n",
    "import graphviz\n",
    "from graphviz import Source\n",
    "from sklearn import tree\n",
    "import os\n",
    "os.environ[\"PATH\"] += os.pathsep + 'C:\\Program Files (x86)/Graphviz2.38/bin/'\n",
    "import warnings\n",
    "warnings.filterwarnings('ignore')"
   ]
  },
  {
   "cell_type": "code",
   "execution_count": 2,
   "metadata": {},
   "outputs": [
    {
     "name": "stdout",
     "output_type": "stream",
     "text": [
      "File directory: ./Documents/winequality-red.csv\n"
     ]
    }
   ],
   "source": [
    "DIR = './Documents'\n",
    "FILE = '/winequality-red.csv'\n",
    "\n",
    "file = '{}{}'.format(DIR,FILE)\n",
    "\n",
    "print('File directory: {}'.format(file))"
   ]
  },
  {
   "cell_type": "code",
   "execution_count": 3,
   "metadata": {},
   "outputs": [],
   "source": [
    "data = pd.read_csv('./Documents/winequality-red.csv')"
   ]
  },
  {
   "cell_type": "code",
   "execution_count": 4,
   "metadata": {
    "scrolled": true
   },
   "outputs": [
    {
     "data": {
      "text/html": [
       "<div>\n",
       "<style scoped>\n",
       "    .dataframe tbody tr th:only-of-type {\n",
       "        vertical-align: middle;\n",
       "    }\n",
       "\n",
       "    .dataframe tbody tr th {\n",
       "        vertical-align: top;\n",
       "    }\n",
       "\n",
       "    .dataframe thead th {\n",
       "        text-align: right;\n",
       "    }\n",
       "</style>\n",
       "<table border=\"1\" class=\"dataframe\">\n",
       "  <thead>\n",
       "    <tr style=\"text-align: right;\">\n",
       "      <th></th>\n",
       "      <th>fixed acidity</th>\n",
       "      <th>volatile acidity</th>\n",
       "      <th>citric acid</th>\n",
       "      <th>residual sugar</th>\n",
       "      <th>chlorides</th>\n",
       "      <th>free sulfur dioxide</th>\n",
       "      <th>total sulfur dioxide</th>\n",
       "      <th>density</th>\n",
       "      <th>pH</th>\n",
       "      <th>sulphates</th>\n",
       "      <th>alcohol</th>\n",
       "      <th>quality</th>\n",
       "    </tr>\n",
       "  </thead>\n",
       "  <tbody>\n",
       "    <tr>\n",
       "      <th>0</th>\n",
       "      <td>7.4</td>\n",
       "      <td>0.70</td>\n",
       "      <td>0.00</td>\n",
       "      <td>1.9</td>\n",
       "      <td>0.076</td>\n",
       "      <td>11.0</td>\n",
       "      <td>34.0</td>\n",
       "      <td>0.9978</td>\n",
       "      <td>3.51</td>\n",
       "      <td>0.56</td>\n",
       "      <td>9.4</td>\n",
       "      <td>5</td>\n",
       "    </tr>\n",
       "    <tr>\n",
       "      <th>1</th>\n",
       "      <td>7.8</td>\n",
       "      <td>0.88</td>\n",
       "      <td>0.00</td>\n",
       "      <td>2.6</td>\n",
       "      <td>0.098</td>\n",
       "      <td>25.0</td>\n",
       "      <td>67.0</td>\n",
       "      <td>0.9968</td>\n",
       "      <td>3.20</td>\n",
       "      <td>0.68</td>\n",
       "      <td>9.8</td>\n",
       "      <td>5</td>\n",
       "    </tr>\n",
       "    <tr>\n",
       "      <th>2</th>\n",
       "      <td>7.8</td>\n",
       "      <td>0.76</td>\n",
       "      <td>0.04</td>\n",
       "      <td>2.3</td>\n",
       "      <td>0.092</td>\n",
       "      <td>15.0</td>\n",
       "      <td>54.0</td>\n",
       "      <td>0.9970</td>\n",
       "      <td>3.26</td>\n",
       "      <td>0.65</td>\n",
       "      <td>9.8</td>\n",
       "      <td>5</td>\n",
       "    </tr>\n",
       "    <tr>\n",
       "      <th>3</th>\n",
       "      <td>11.2</td>\n",
       "      <td>0.28</td>\n",
       "      <td>0.56</td>\n",
       "      <td>1.9</td>\n",
       "      <td>0.075</td>\n",
       "      <td>17.0</td>\n",
       "      <td>60.0</td>\n",
       "      <td>0.9980</td>\n",
       "      <td>3.16</td>\n",
       "      <td>0.58</td>\n",
       "      <td>9.8</td>\n",
       "      <td>6</td>\n",
       "    </tr>\n",
       "    <tr>\n",
       "      <th>4</th>\n",
       "      <td>7.4</td>\n",
       "      <td>0.70</td>\n",
       "      <td>0.00</td>\n",
       "      <td>1.9</td>\n",
       "      <td>0.076</td>\n",
       "      <td>11.0</td>\n",
       "      <td>34.0</td>\n",
       "      <td>0.9978</td>\n",
       "      <td>3.51</td>\n",
       "      <td>0.56</td>\n",
       "      <td>9.4</td>\n",
       "      <td>5</td>\n",
       "    </tr>\n",
       "  </tbody>\n",
       "</table>\n",
       "</div>"
      ],
      "text/plain": [
       "   fixed acidity  volatile acidity  citric acid  residual sugar  chlorides  \\\n",
       "0            7.4              0.70         0.00             1.9      0.076   \n",
       "1            7.8              0.88         0.00             2.6      0.098   \n",
       "2            7.8              0.76         0.04             2.3      0.092   \n",
       "3           11.2              0.28         0.56             1.9      0.075   \n",
       "4            7.4              0.70         0.00             1.9      0.076   \n",
       "\n",
       "   free sulfur dioxide  total sulfur dioxide  density    pH  sulphates  \\\n",
       "0                 11.0                  34.0   0.9978  3.51       0.56   \n",
       "1                 25.0                  67.0   0.9968  3.20       0.68   \n",
       "2                 15.0                  54.0   0.9970  3.26       0.65   \n",
       "3                 17.0                  60.0   0.9980  3.16       0.58   \n",
       "4                 11.0                  34.0   0.9978  3.51       0.56   \n",
       "\n",
       "   alcohol  quality  \n",
       "0      9.4        5  \n",
       "1      9.8        5  \n",
       "2      9.8        5  \n",
       "3      9.8        6  \n",
       "4      9.4        5  "
      ]
     },
     "execution_count": 4,
     "metadata": {},
     "output_type": "execute_result"
    }
   ],
   "source": [
    "data.head()"
   ]
  },
  {
   "cell_type": "code",
   "execution_count": 5,
   "metadata": {},
   "outputs": [
    {
     "data": {
      "text/plain": [
       "count    1599.000000\n",
       "mean        5.636023\n",
       "std         0.807569\n",
       "min         3.000000\n",
       "25%         5.000000\n",
       "50%         6.000000\n",
       "75%         6.000000\n",
       "max         8.000000\n",
       "Name: quality, dtype: float64"
      ]
     },
     "execution_count": 5,
     "metadata": {},
     "output_type": "execute_result"
    }
   ],
   "source": [
    "data['quality'].describe()"
   ]
  },
  {
   "cell_type": "code",
   "execution_count": 6,
   "metadata": {},
   "outputs": [
    {
     "data": {
      "text/plain": [
       "(1599, 12)"
      ]
     },
     "execution_count": 6,
     "metadata": {},
     "output_type": "execute_result"
    }
   ],
   "source": [
    "data.shape"
   ]
  },
  {
   "cell_type": "code",
   "execution_count": 7,
   "metadata": {},
   "outputs": [
    {
     "data": {
      "text/plain": [
       "<bound method DataFrame.info of       fixed acidity  volatile acidity  citric acid  residual sugar  chlorides  \\\n",
       "0               7.4             0.700         0.00             1.9      0.076   \n",
       "1               7.8             0.880         0.00             2.6      0.098   \n",
       "2               7.8             0.760         0.04             2.3      0.092   \n",
       "3              11.2             0.280         0.56             1.9      0.075   \n",
       "4               7.4             0.700         0.00             1.9      0.076   \n",
       "...             ...               ...          ...             ...        ...   \n",
       "1594            6.2             0.600         0.08             2.0      0.090   \n",
       "1595            5.9             0.550         0.10             2.2      0.062   \n",
       "1596            6.3             0.510         0.13             2.3      0.076   \n",
       "1597            5.9             0.645         0.12             2.0      0.075   \n",
       "1598            6.0             0.310         0.47             3.6      0.067   \n",
       "\n",
       "      free sulfur dioxide  total sulfur dioxide  density    pH  sulphates  \\\n",
       "0                    11.0                  34.0  0.99780  3.51       0.56   \n",
       "1                    25.0                  67.0  0.99680  3.20       0.68   \n",
       "2                    15.0                  54.0  0.99700  3.26       0.65   \n",
       "3                    17.0                  60.0  0.99800  3.16       0.58   \n",
       "4                    11.0                  34.0  0.99780  3.51       0.56   \n",
       "...                   ...                   ...      ...   ...        ...   \n",
       "1594                 32.0                  44.0  0.99490  3.45       0.58   \n",
       "1595                 39.0                  51.0  0.99512  3.52       0.76   \n",
       "1596                 29.0                  40.0  0.99574  3.42       0.75   \n",
       "1597                 32.0                  44.0  0.99547  3.57       0.71   \n",
       "1598                 18.0                  42.0  0.99549  3.39       0.66   \n",
       "\n",
       "      alcohol  quality  \n",
       "0         9.4        5  \n",
       "1         9.8        5  \n",
       "2         9.8        5  \n",
       "3         9.8        6  \n",
       "4         9.4        5  \n",
       "...       ...      ...  \n",
       "1594     10.5        5  \n",
       "1595     11.2        6  \n",
       "1596     11.0        6  \n",
       "1597     10.2        5  \n",
       "1598     11.0        6  \n",
       "\n",
       "[1599 rows x 12 columns]>"
      ]
     },
     "execution_count": 7,
     "metadata": {},
     "output_type": "execute_result"
    }
   ],
   "source": [
    "data.info"
   ]
  },
  {
   "cell_type": "code",
   "execution_count": 8,
   "metadata": {},
   "outputs": [
    {
     "data": {
      "text/plain": [
       "<matplotlib.axes._subplots.AxesSubplot at 0x1b35d750>"
      ]
     },
     "execution_count": 8,
     "metadata": {},
     "output_type": "execute_result"
    },
    {
     "data": {
      "image/png": "[encoded data removed]",
      "text/plain": [
       "<Figure size 432x288 with 1 Axes>"
      ]
     },
     "metadata": {
      "needs_background": "light"
     },
     "output_type": "display_data"
    }
   ],
   "source": [
    "sns.barplot(x = 'quality', y = 'volatile acidity', data = data)"
   ]
  },
  {
   "cell_type": "code",
   "execution_count": 9,
   "metadata": {},
   "outputs": [
    {
     "data": {
      "text/plain": [
       "<matplotlib.axes._subplots.AxesSubplot at 0x1c40d490>"
      ]
     },
     "execution_count": 9,
     "metadata": {},
     "output_type": "execute_result"
    },
    {
     "data": {
      "image/png": "[encoded data removed]",
      "text/plain": [
       "<Figure size 432x288 with 1 Axes>"
      ]
     },
     "metadata": {
      "needs_background": "light"
     },
     "output_type": "display_data"
    }
   ],
   "source": [
    "sns.barplot(x = 'quality', y = 'fixed acidity', data = data)"
   ]
  },
  {
   "cell_type": "code",
   "execution_count": 10,
   "metadata": {},
   "outputs": [
    {
     "data": {
      "text/plain": [
       "<matplotlib.axes._subplots.AxesSubplot at 0x1c46e510>"
      ]
     },
     "execution_count": 10,
     "metadata": {},
     "output_type": "execute_result"
    },
    {
     "data": {
      "image/png": "[encoded data removed]",
      "text/plain": [
       "<Figure size 432x288 with 1 Axes>"
      ]
     },
     "metadata": {
      "needs_background": "light"
     },
     "output_type": "display_data"
    }
   ],
   "source": [
    "sns.barplot(x = 'quality', y = 'citric acid', data = data)"
   ]
  },
  {
   "cell_type": "code",
   "execution_count": 11,
   "metadata": {},
   "outputs": [
    {
     "data": {
      "text/plain": [
       "<matplotlib.axes._subplots.AxesSubplot at 0x1c4b9e30>"
      ]
     },
     "execution_count": 11,
     "metadata": {},
     "output_type": "execute_result"
    },
    {
     "data": {
      "image/png": "[encoded data removed]",
      "text/plain": [
       "<Figure size 432x288 with 1 Axes>"
      ]
     },
     "metadata": {
      "needs_background": "light"
     },
     "output_type": "display_data"
    }
   ],
   "source": [
    "sns.barplot(x = 'quality', y = 'residual sugar', data = data)\n"
   ]
  },
  {
   "cell_type": "code",
   "execution_count": 12,
   "metadata": {},
   "outputs": [
    {
     "data": {
      "text/plain": [
       "<matplotlib.axes._subplots.AxesSubplot at 0x1c5027f0>"
      ]
     },
     "execution_count": 12,
     "metadata": {},
     "output_type": "execute_result"
    },
    {
     "data": {
      "image/png": "[encoded data removed]",
      "text/plain": [
       "<Figure size 432x288 with 1 Axes>"
      ]
     },
     "metadata": {
      "needs_background": "light"
     },
     "output_type": "display_data"
    }
   ],
   "source": [
    "sns.barplot(x = 'quality', y = 'chlorides', data = data)"
   ]
  },
  {
   "cell_type": "code",
   "execution_count": 13,
   "metadata": {},
   "outputs": [
    {
     "data": {
      "text/plain": [
       "<matplotlib.axes._subplots.AxesSubplot at 0x1c4f1cb0>"
      ]
     },
     "execution_count": 13,
     "metadata": {},
     "output_type": "execute_result"
    },
    {
     "data": {
      "image/png": "[encoded data removed]",
      "text/plain": [
       "<Figure size 432x288 with 1 Axes>"
      ]
     },
     "metadata": {
      "needs_background": "light"
     },
     "output_type": "display_data"
    }
   ],
   "source": [
    "sns.barplot(x = 'quality', y = 'free sulfur dioxide', data = data)"
   ]
  },
  {
   "cell_type": "code",
   "execution_count": 14,
   "metadata": {},
   "outputs": [
    {
     "data": {
      "text/plain": [
       "<matplotlib.axes._subplots.AxesSubplot at 0x1c5aba30>"
      ]
     },
     "execution_count": 14,
     "metadata": {},
     "output_type": "execute_result"
    },
    {
     "data": {
      "image/png": "[encoded data removed]",
      "text/plain": [
       "<Figure size 432x288 with 1 Axes>"
      ]
     },
     "metadata": {
      "needs_background": "light"
     },
     "output_type": "display_data"
    }
   ],
   "source": [
    "sns.barplot(x ='quality', y = 'total sulfur dioxide', data= data)"
   ]
  },
  {
   "cell_type": "code",
   "execution_count": 15,
   "metadata": {},
   "outputs": [
    {
     "data": {
      "text/plain": [
       "<matplotlib.axes._subplots.AxesSubplot at 0x1c5f6b10>"
      ]
     },
     "execution_count": 15,
     "metadata": {},
     "output_type": "execute_result"
    },
    {
     "data": {
      "image/png": "[encoded data removed]",
      "text/plain": [
       "<Figure size 432x288 with 1 Axes>"
      ]
     },
     "metadata": {
      "needs_background": "light"
     },
     "output_type": "display_data"
    }
   ],
   "source": [
    "sns.barplot(x = 'quality', y = 'density', data = data)"
   ]
  },
  {
   "cell_type": "code",
   "execution_count": 16,
   "metadata": {},
   "outputs": [
    {
     "data": {
      "text/plain": [
       "<matplotlib.axes._subplots.AxesSubplot at 0x1c635b70>"
      ]
     },
     "execution_count": 16,
     "metadata": {},
     "output_type": "execute_result"
    },
    {
     "data": {
      "image/png": "[encoded data removed]",
      "text/plain": [
       "<Figure size 432x288 with 1 Axes>"
      ]
     },
     "metadata": {
      "needs_background": "light"
     },
     "output_type": "display_data"
    }
   ],
   "source": [
    "sns.barplot( x = 'quality', y = 'pH', data=data)"
   ]
  },
  {
   "cell_type": "code",
   "execution_count": 17,
   "metadata": {},
   "outputs": [
    {
     "data": {
      "text/plain": [
       "<matplotlib.axes._subplots.AxesSubplot at 0x1c688f90>"
      ]
     },
     "execution_count": 17,
     "metadata": {},
     "output_type": "execute_result"
    },
    {
     "data": {
      "image/png": "[encoded data removed]",
      "text/plain": [
       "<Figure size 432x288 with 1 Axes>"
      ]
     },
     "metadata": {
      "needs_background": "light"
     },
     "output_type": "display_data"
    }
   ],
   "source": [
    "sns.barplot(x = 'quality', y = 'sulphates', data = data)"
   ]
  },
  {
   "cell_type": "code",
   "execution_count": 18,
   "metadata": {},
   "outputs": [
    {
     "data": {
      "text/plain": [
       "<matplotlib.axes._subplots.AxesSubplot at 0x1c6dd7f0>"
      ]
     },
     "execution_count": 18,
     "metadata": {},
     "output_type": "execute_result"
    },
    {
     "data": {
      "image/png": "[encoded data removed]",
      "text/plain": [
       "<Figure size 432x288 with 1 Axes>"
      ]
     },
     "metadata": {
      "needs_background": "light"
     },
     "output_type": "display_data"
    }
   ],
   "source": [
    "sns.barplot(x = 'quality', y ='alcohol', data = data)"
   ]
  },
  {
   "cell_type": "code",
   "execution_count": 19,
   "metadata": {},
   "outputs": [],
   "source": [
    "#selecting the input and output features for regression tasks\n",
    "features = ['fixed acidity','volatile acidity','citric acid','residual sugar','chlorides',\n",
    "            'free sulfur dioxide','total sulfur dioxide','density','pH','sulphates','alcohol']"
   ]
  },
  {
   "cell_type": "code",
   "execution_count": 20,
   "metadata": {},
   "outputs": [],
   "source": [
    "target = ['quality']"
   ]
  },
  {
   "cell_type": "code",
   "execution_count": 21,
   "metadata": {},
   "outputs": [
    {
     "data": {
      "text/plain": [
       "fixed acidity           False\n",
       "volatile acidity        False\n",
       "citric acid             False\n",
       "residual sugar          False\n",
       "chlorides               False\n",
       "free sulfur dioxide     False\n",
       "total sulfur dioxide    False\n",
       "density                 False\n",
       "pH                      False\n",
       "sulphates               False\n",
       "alcohol                 False\n",
       "quality                 False\n",
       "dtype: bool"
      ]
     },
     "execution_count": 21,
     "metadata": {},
     "output_type": "execute_result"
    }
   ],
   "source": [
    "#cheching for any null values in the dataset\n",
    "data.isnull().any()"
   ]
  },
  {
   "cell_type": "code",
   "execution_count": 22,
   "metadata": {},
   "outputs": [],
   "source": [
    "#inisialization\n",
    "X = data[features]\n",
    "y = data[target]"
   ]
  },
  {
   "cell_type": "code",
   "execution_count": 23,
   "metadata": {},
   "outputs": [],
   "source": [
    "#SPLITTING THE DATA INTO TEST AND TRAIN \n",
    "X_train, X_test, y_train, y_test = train_test_split(X, y, test_size=0.33, random_state=200)"
   ]
  },
  {
   "cell_type": "code",
   "execution_count": 24,
   "metadata": {},
   "outputs": [
    {
     "data": {
      "text/plain": [
       "LinearRegression(copy_X=True, fit_intercept=True, n_jobs=None, normalize=False)"
      ]
     },
     "execution_count": 24,
     "metadata": {},
     "output_type": "execute_result"
    }
   ],
   "source": [
    "#Fit on train set\n",
    "regressor = LinearRegression()\n",
    "regressor.fit(X_train, y_train)"
   ]
  },
  {
   "cell_type": "code",
   "execution_count": 25,
   "metadata": {},
   "outputs": [
    {
     "name": "stdout",
     "output_type": "stream",
     "text": [
      "[[5.6362557 ]\n",
      " [5.73580131]\n",
      " [5.51754284]\n",
      " [5.48101339]\n",
      " [5.69866009]\n",
      " [4.20174276]\n",
      " [6.36821516]\n",
      " [5.36899847]\n",
      " [5.05858532]\n",
      " [5.16117307]]\n",
      "--------------------------------------------------\n",
      "      quality\n",
      "366         7\n",
      "1325        6\n",
      "133         6\n",
      "1418        5\n",
      "1258        6\n",
      "672         5\n",
      "609         6\n",
      "388         6\n",
      "627         5\n",
      "688         5\n"
     ]
    }
   ],
   "source": [
    "#Predict on test data\n",
    "y_prediction = regressor.predict(X_test)\n",
    "print(y_prediction[:10])\n",
    "print('-'*50)\n",
    "print(y_test[:10])"
   ]
  },
  {
   "cell_type": "code",
   "execution_count": 26,
   "metadata": {},
   "outputs": [
    {
     "data": {
      "text/plain": [
       "<bound method NDFrame.describe of       quality\n",
       "366         7\n",
       "1325        6\n",
       "133         6\n",
       "1418        5\n",
       "1258        6\n",
       "...       ...\n",
       "26          5\n",
       "1257        6\n",
       "717         5\n",
       "1049        6\n",
       "202         5\n",
       "\n",
       "[528 rows x 1 columns]>"
      ]
     },
     "execution_count": 26,
     "metadata": {},
     "output_type": "execute_result"
    }
   ],
   "source": [
    "y_test.describe"
   ]
  },
  {
   "cell_type": "code",
   "execution_count": 27,
   "metadata": {},
   "outputs": [
    {
     "name": "stdout",
     "output_type": "stream",
     "text": [
      "0.605381364047621\n"
     ]
    }
   ],
   "source": [
    "#evaluate the accuracy of linear regression using RMSe(root mean square error)\n",
    "RMSE = sqrt(mean_squared_error(y_true=y_test, y_pred=y_prediction))\n",
    "print(RMSE)"
   ]
  },
  {
   "cell_type": "code",
   "execution_count": 28,
   "metadata": {},
   "outputs": [
    {
     "data": {
      "text/plain": [
       "DecisionTreeRegressor(criterion='mse', max_depth=50, max_features=None,\n",
       "                      max_leaf_nodes=None, min_impurity_decrease=0.0,\n",
       "                      min_impurity_split=None, min_samples_leaf=1,\n",
       "                      min_samples_split=2, min_weight_fraction_leaf=0.0,\n",
       "                      presort=False, random_state=None, splitter='best')"
      ]
     },
     "execution_count": 28,
     "metadata": {},
     "output_type": "execute_result"
    }
   ],
   "source": [
    "#Fit on a new regression model to train ste which is Decision Tree\n",
    "regressor = DecisionTreeRegressor(max_depth=50)\n",
    "regressor.fit(X_train, y_train)"
   ]
  },
  {
   "cell_type": "code",
   "execution_count": 29,
   "metadata": {},
   "outputs": [
    {
     "name": "stdout",
     "output_type": "stream",
     "text": [
      "      quality\n",
      "366         7\n",
      "1325        6\n",
      "133         6\n",
      "1418        5\n",
      "1258        6\n",
      "672         5\n",
      "609         6\n",
      "388         6\n",
      "627         5\n",
      "688         5\n",
      "[7. 6. 5. 6. 6. 5. 6. 6. 4. 6.]\n"
     ]
    }
   ],
   "source": [
    "#perform prediction using decision tree\n",
    "y_prediction = regressor.predict(X_test)\n",
    "print(y_test[:10])\n",
    "print(y_prediction[:10])"
   ]
  },
  {
   "cell_type": "code",
   "execution_count": 30,
   "metadata": {},
   "outputs": [],
   "source": [
    "#evaluate the accuracy using RMSE\n",
    "RMSE = sqrt(mean_squared_error(y_true=y_test, y_pred=y_prediction))"
   ]
  },
  {
   "cell_type": "code",
   "execution_count": 31,
   "metadata": {},
   "outputs": [
    {
     "name": "stdout",
     "output_type": "stream",
     "text": [
      "0.7562867822259602\n"
     ]
    }
   ],
   "source": [
    "print(RMSE)"
   ]
  },
  {
   "cell_type": "code",
   "execution_count": 32,
   "metadata": {},
   "outputs": [],
   "source": [
    "#classification model\n",
    "from sklearn.tree import DecisionTreeClassifier"
   ]
  },
  {
   "cell_type": "code",
   "execution_count": 33,
   "metadata": {},
   "outputs": [],
   "source": [
    "#copying the dataset into a new one\n",
    "data_classifier = data.copy()"
   ]
  },
  {
   "cell_type": "code",
   "execution_count": 34,
   "metadata": {},
   "outputs": [
    {
     "data": {
      "text/html": [
       "<div>\n",
       "<style scoped>\n",
       "    .dataframe tbody tr th:only-of-type {\n",
       "        vertical-align: middle;\n",
       "    }\n",
       "\n",
       "    .dataframe tbody tr th {\n",
       "        vertical-align: top;\n",
       "    }\n",
       "\n",
       "    .dataframe thead th {\n",
       "        text-align: right;\n",
       "    }\n",
       "</style>\n",
       "<table border=\"1\" class=\"dataframe\">\n",
       "  <thead>\n",
       "    <tr style=\"text-align: right;\">\n",
       "      <th></th>\n",
       "      <th>fixed acidity</th>\n",
       "      <th>volatile acidity</th>\n",
       "      <th>citric acid</th>\n",
       "      <th>residual sugar</th>\n",
       "      <th>chlorides</th>\n",
       "      <th>free sulfur dioxide</th>\n",
       "      <th>total sulfur dioxide</th>\n",
       "      <th>density</th>\n",
       "      <th>pH</th>\n",
       "      <th>sulphates</th>\n",
       "      <th>alcohol</th>\n",
       "      <th>quality</th>\n",
       "    </tr>\n",
       "  </thead>\n",
       "  <tbody>\n",
       "    <tr>\n",
       "      <th>0</th>\n",
       "      <td>7.4</td>\n",
       "      <td>0.70</td>\n",
       "      <td>0.00</td>\n",
       "      <td>1.9</td>\n",
       "      <td>0.076</td>\n",
       "      <td>11.0</td>\n",
       "      <td>34.0</td>\n",
       "      <td>0.9978</td>\n",
       "      <td>3.51</td>\n",
       "      <td>0.56</td>\n",
       "      <td>9.4</td>\n",
       "      <td>5</td>\n",
       "    </tr>\n",
       "    <tr>\n",
       "      <th>1</th>\n",
       "      <td>7.8</td>\n",
       "      <td>0.88</td>\n",
       "      <td>0.00</td>\n",
       "      <td>2.6</td>\n",
       "      <td>0.098</td>\n",
       "      <td>25.0</td>\n",
       "      <td>67.0</td>\n",
       "      <td>0.9968</td>\n",
       "      <td>3.20</td>\n",
       "      <td>0.68</td>\n",
       "      <td>9.8</td>\n",
       "      <td>5</td>\n",
       "    </tr>\n",
       "    <tr>\n",
       "      <th>2</th>\n",
       "      <td>7.8</td>\n",
       "      <td>0.76</td>\n",
       "      <td>0.04</td>\n",
       "      <td>2.3</td>\n",
       "      <td>0.092</td>\n",
       "      <td>15.0</td>\n",
       "      <td>54.0</td>\n",
       "      <td>0.9970</td>\n",
       "      <td>3.26</td>\n",
       "      <td>0.65</td>\n",
       "      <td>9.8</td>\n",
       "      <td>5</td>\n",
       "    </tr>\n",
       "    <tr>\n",
       "      <th>3</th>\n",
       "      <td>11.2</td>\n",
       "      <td>0.28</td>\n",
       "      <td>0.56</td>\n",
       "      <td>1.9</td>\n",
       "      <td>0.075</td>\n",
       "      <td>17.0</td>\n",
       "      <td>60.0</td>\n",
       "      <td>0.9980</td>\n",
       "      <td>3.16</td>\n",
       "      <td>0.58</td>\n",
       "      <td>9.8</td>\n",
       "      <td>6</td>\n",
       "    </tr>\n",
       "    <tr>\n",
       "      <th>4</th>\n",
       "      <td>7.4</td>\n",
       "      <td>0.70</td>\n",
       "      <td>0.00</td>\n",
       "      <td>1.9</td>\n",
       "      <td>0.076</td>\n",
       "      <td>11.0</td>\n",
       "      <td>34.0</td>\n",
       "      <td>0.9978</td>\n",
       "      <td>3.51</td>\n",
       "      <td>0.56</td>\n",
       "      <td>9.4</td>\n",
       "      <td>5</td>\n",
       "    </tr>\n",
       "  </tbody>\n",
       "</table>\n",
       "</div>"
      ],
      "text/plain": [
       "   fixed acidity  volatile acidity  citric acid  residual sugar  chlorides  \\\n",
       "0            7.4              0.70         0.00             1.9      0.076   \n",
       "1            7.8              0.88         0.00             2.6      0.098   \n",
       "2            7.8              0.76         0.04             2.3      0.092   \n",
       "3           11.2              0.28         0.56             1.9      0.075   \n",
       "4            7.4              0.70         0.00             1.9      0.076   \n",
       "\n",
       "   free sulfur dioxide  total sulfur dioxide  density    pH  sulphates  \\\n",
       "0                 11.0                  34.0   0.9978  3.51       0.56   \n",
       "1                 25.0                  67.0   0.9968  3.20       0.68   \n",
       "2                 15.0                  54.0   0.9970  3.26       0.65   \n",
       "3                 17.0                  60.0   0.9980  3.16       0.58   \n",
       "4                 11.0                  34.0   0.9978  3.51       0.56   \n",
       "\n",
       "   alcohol  quality  \n",
       "0      9.4        5  \n",
       "1      9.8        5  \n",
       "2      9.8        5  \n",
       "3      9.8        6  \n",
       "4      9.4        5  "
      ]
     },
     "execution_count": 34,
     "metadata": {},
     "output_type": "execute_result"
    }
   ],
   "source": [
    "data_classifier.head()"
   ]
  },
  {
   "cell_type": "code",
   "execution_count": 35,
   "metadata": {},
   "outputs": [
    {
     "data": {
      "text/plain": [
       "dtype('int64')"
      ]
     },
     "execution_count": 35,
     "metadata": {},
     "output_type": "execute_result"
    }
   ],
   "source": [
    "data_classifier['quality'].dtype"
   ]
  },
  {
   "cell_type": "code",
   "execution_count": 36,
   "metadata": {},
   "outputs": [],
   "source": [
    "#convert the value in 1,2,3\n",
    "data_classifier = [] \n",
    "for i in data['quality']:\n",
    "    if i >= 1 and i <= 4:\n",
    "        data_classifier.append('bad')\n",
    "    elif i >= 5 and i <= 6:\n",
    "        data_classifier.append('good')\n",
    "    elif i >= 6 and i <= 8:\n",
    "        data_classifier.append('excellent')\n",
    "data['quality_label'] = data_classifier\n",
    "X_train = data.drop(['quality', 'quality_label'] , axis = 1)\n",
    "y_train = data['quality_label']"
   ]
  },
  {
   "cell_type": "code",
   "execution_count": 37,
   "metadata": {},
   "outputs": [
    {
     "data": {
      "text/plain": [
       "0       good\n",
       "1       good\n",
       "2       good\n",
       "3       good\n",
       "4       good\n",
       "        ... \n",
       "1594    good\n",
       "1595    good\n",
       "1596    good\n",
       "1597    good\n",
       "1598    good\n",
       "Name: quality_label, Length: 1599, dtype: object"
      ]
     },
     "execution_count": 37,
     "metadata": {},
     "output_type": "execute_result"
    }
   ],
   "source": [
    "data['quality_label']"
   ]
  },
  {
   "cell_type": "code",
   "execution_count": 38,
   "metadata": {},
   "outputs": [],
   "source": [
    "features = ['fixed acidity','volatile acidity','citric acid','residual sugar','chlorides',\n",
    "            'free sulfur dioxide','total sulfur dioxide','density','pH','sulphates','alcohol']\n",
    "target_classifier = ['quality_label']"
   ]
  },
  {
   "cell_type": "code",
   "execution_count": 39,
   "metadata": {},
   "outputs": [],
   "source": [
    "X = data[features]\n",
    "y = data[target_classifier]"
   ]
  },
  {
   "cell_type": "code",
   "execution_count": 40,
   "metadata": {},
   "outputs": [],
   "source": [
    "#splitting the train and test data\n",
    "X_train, X_test, y_train, y_test = train_test_split(X,y, test_size = 0.33, random_state=324)"
   ]
  },
  {
   "cell_type": "code",
   "execution_count": 41,
   "metadata": {},
   "outputs": [],
   "source": [
    "#fit on train set\n",
    "data_quality = DecisionTreeClassifier(max_depth=3, max_leaf_nodes = 20, random_state=0)"
   ]
  },
  {
   "cell_type": "code",
   "execution_count": 42,
   "metadata": {
    "scrolled": true
   },
   "outputs": [
    {
     "data": {
      "text/plain": [
       "DecisionTreeClassifier(class_weight=None, criterion='gini', max_depth=3,\n",
       "                       max_features=None, max_leaf_nodes=20,\n",
       "                       min_impurity_decrease=0.0, min_impurity_split=None,\n",
       "                       min_samples_leaf=1, min_samples_split=2,\n",
       "                       min_weight_fraction_leaf=0.0, presort=False,\n",
       "                       random_state=0, splitter='best')"
      ]
     },
     "execution_count": 42,
     "metadata": {},
     "output_type": "execute_result"
    }
   ],
   "source": [
    "data_quality.fit(X_train, y_train)"
   ]
  },
  {
   "cell_type": "code",
   "execution_count": 43,
   "metadata": {},
   "outputs": [
    {
     "data": {
      "image/svg+xml": [
       "<?xml version=\"1.0\" encoding=\"UTF-8\" standalone=\"no\"?>\r\n",
       "<!DOCTYPE svg PUBLIC \"-//W3C//DTD SVG 1.1//EN\"\r\n",
       " \"http://www.w3.org/Graphics/SVG/1.1/DTD/svg11.dtd\">\r\n",
       "<!-- Generated by graphviz version 2.38.0 (20140413.2041)\r\n",
       " -->\r\n",
       "<!-- Title: Tree Pages: 1 -->\r\n",
       "<svg width=\"1088pt\" height=\"373pt\"\r\n",
       " viewBox=\"0.00 0.00 1087.50 373.00\" xmlns=\"http://www.w3.org/2000/svg\" xmlns:xlink=\"http://www.w3.org/1999/xlink\">\r\n",
       "<g id=\"graph0\" class=\"graph\" transform=\"scale(1 1) rotate(0) translate(4 369)\">\r\n",
       "<title>Tree</title>\r\n",
       "<polygon fill=\"white\" stroke=\"none\" points=\"-4,4 -4,-369 1083.5,-369 1083.5,4 -4,4\"/>\r\n",
       "<!-- 0 -->\r\n",
       "<g id=\"node1\" class=\"node\"><title>0</title>\r\n",
       "<polygon fill=\"none\" stroke=\"black\" points=\"612.5,-365 473.5,-365 473.5,-297 612.5,-297 612.5,-365\"/>\r\n",
       "<text text-anchor=\"middle\" x=\"543\" y=\"-349.8\" font-family=\"Times New Roman,serif\" font-size=\"14.00\">alcohol &lt;= 11.55</text>\r\n",
       "<text text-anchor=\"middle\" x=\"543\" y=\"-334.8\" font-family=\"Times New Roman,serif\" font-size=\"14.00\">gini = 0.305</text>\r\n",
       "<text text-anchor=\"middle\" x=\"543\" y=\"-319.8\" font-family=\"Times New Roman,serif\" font-size=\"14.00\">samples = 1071</text>\r\n",
       "<text text-anchor=\"middle\" x=\"543\" y=\"-304.8\" font-family=\"Times New Roman,serif\" font-size=\"14.00\">value = [43, 149, 879]</text>\r\n",
       "</g>\r\n",
       "<!-- 1 -->\r\n",
       "<g id=\"node2\" class=\"node\"><title>1</title>\r\n",
       "<polygon fill=\"none\" stroke=\"black\" points=\"507.5,-261 356.5,-261 356.5,-193 507.5,-193 507.5,-261\"/>\r\n",
       "<text text-anchor=\"middle\" x=\"432\" y=\"-245.8\" font-family=\"Times New Roman,serif\" font-size=\"14.00\">volatile acidity &lt;= 0.375</text>\r\n",
       "<text text-anchor=\"middle\" x=\"432\" y=\"-230.8\" font-family=\"Times New Roman,serif\" font-size=\"14.00\">gini = 0.226</text>\r\n",
       "<text text-anchor=\"middle\" x=\"432\" y=\"-215.8\" font-family=\"Times New Roman,serif\" font-size=\"14.00\">samples = 903</text>\r\n",
       "<text text-anchor=\"middle\" x=\"432\" y=\"-200.8\" font-family=\"Times New Roman,serif\" font-size=\"14.00\">value = [41, 72, 790]</text>\r\n",
       "</g>\r\n",
       "<!-- 0&#45;&gt;1 -->\r\n",
       "<g id=\"edge1\" class=\"edge\"><title>0&#45;&gt;1</title>\r\n",
       "<path fill=\"none\" stroke=\"black\" d=\"M506.961,-296.884C496.977,-287.709 486.031,-277.65 475.663,-268.123\"/>\r\n",
       "<polygon fill=\"black\" stroke=\"black\" points=\"477.969,-265.488 468.238,-261.299 473.233,-270.643 477.969,-265.488\"/>\r\n",
       "<text text-anchor=\"middle\" x=\"469.293\" y=\"-282.577\" font-family=\"Times New Roman,serif\" font-size=\"14.00\">True</text>\r\n",
       "</g>\r\n",
       "<!-- 2 -->\r\n",
       "<g id=\"node9\" class=\"node\"><title>2</title>\r\n",
       "<polygon fill=\"none\" stroke=\"black\" points=\"715.5,-261 592.5,-261 592.5,-193 715.5,-193 715.5,-261\"/>\r\n",
       "<text text-anchor=\"middle\" x=\"654\" y=\"-245.8\" font-family=\"Times New Roman,serif\" font-size=\"14.00\">sulphates &lt;= 0.685</text>\r\n",
       "<text text-anchor=\"middle\" x=\"654\" y=\"-230.8\" font-family=\"Times New Roman,serif\" font-size=\"14.00\">gini = 0.509</text>\r\n",
       "<text text-anchor=\"middle\" x=\"654\" y=\"-215.8\" font-family=\"Times New Roman,serif\" font-size=\"14.00\">samples = 168</text>\r\n",
       "<text text-anchor=\"middle\" x=\"654\" y=\"-200.8\" font-family=\"Times New Roman,serif\" font-size=\"14.00\">value = [2, 77, 89]</text>\r\n",
       "</g>\r\n",
       "<!-- 0&#45;&gt;2 -->\r\n",
       "<g id=\"edge8\" class=\"edge\"><title>0&#45;&gt;2</title>\r\n",
       "<path fill=\"none\" stroke=\"black\" d=\"M579.039,-296.884C589.023,-287.709 599.969,-277.65 610.337,-268.123\"/>\r\n",
       "<polygon fill=\"black\" stroke=\"black\" points=\"612.767,-270.643 617.762,-261.299 608.031,-265.488 612.767,-270.643\"/>\r\n",
       "<text text-anchor=\"middle\" x=\"616.707\" y=\"-282.577\" font-family=\"Times New Roman,serif\" font-size=\"14.00\">False</text>\r\n",
       "</g>\r\n",
       "<!-- 5 -->\r\n",
       "<g id=\"node3\" class=\"node\"><title>5</title>\r\n",
       "<polygon fill=\"none\" stroke=\"black\" points=\"252.5,-157 127.5,-157 127.5,-89 252.5,-89 252.5,-157\"/>\r\n",
       "<text text-anchor=\"middle\" x=\"190\" y=\"-141.8\" font-family=\"Times New Roman,serif\" font-size=\"14.00\">alcohol &lt;= 10.45</text>\r\n",
       "<text text-anchor=\"middle\" x=\"190\" y=\"-126.8\" font-family=\"Times New Roman,serif\" font-size=\"14.00\">gini = 0.404</text>\r\n",
       "<text text-anchor=\"middle\" x=\"190\" y=\"-111.8\" font-family=\"Times New Roman,serif\" font-size=\"14.00\">samples = 166</text>\r\n",
       "<text text-anchor=\"middle\" x=\"190\" y=\"-96.8\" font-family=\"Times New Roman,serif\" font-size=\"14.00\">value = [3, 42, 121]</text>\r\n",
       "</g>\r\n",
       "<!-- 1&#45;&gt;5 -->\r\n",
       "<g id=\"edge2\" class=\"edge\"><title>1&#45;&gt;5</title>\r\n",
       "<path fill=\"none\" stroke=\"black\" d=\"M356.425,-194.146C326.392,-181.487 291.99,-166.988 262.289,-154.469\"/>\r\n",
       "<polygon fill=\"black\" stroke=\"black\" points=\"263.397,-151.138 252.823,-150.479 260.678,-157.588 263.397,-151.138\"/>\r\n",
       "</g>\r\n",
       "<!-- 6 -->\r\n",
       "<g id=\"node6\" class=\"node\"><title>6</title>\r\n",
       "<polygon fill=\"none\" stroke=\"black\" points=\"507.5,-157 356.5,-157 356.5,-89 507.5,-89 507.5,-157\"/>\r\n",
       "<text text-anchor=\"middle\" x=\"432\" y=\"-141.8\" font-family=\"Times New Roman,serif\" font-size=\"14.00\">volatile acidity &lt;= 0.905</text>\r\n",
       "<text text-anchor=\"middle\" x=\"432\" y=\"-126.8\" font-family=\"Times New Roman,serif\" font-size=\"14.00\">gini = 0.172</text>\r\n",
       "<text text-anchor=\"middle\" x=\"432\" y=\"-111.8\" font-family=\"Times New Roman,serif\" font-size=\"14.00\">samples = 737</text>\r\n",
       "<text text-anchor=\"middle\" x=\"432\" y=\"-96.8\" font-family=\"Times New Roman,serif\" font-size=\"14.00\">value = [38, 30, 669]</text>\r\n",
       "</g>\r\n",
       "<!-- 1&#45;&gt;6 -->\r\n",
       "<g id=\"edge5\" class=\"edge\"><title>1&#45;&gt;6</title>\r\n",
       "<path fill=\"none\" stroke=\"black\" d=\"M432,-192.884C432,-184.778 432,-175.982 432,-167.472\"/>\r\n",
       "<polygon fill=\"black\" stroke=\"black\" points=\"435.5,-167.299 432,-157.299 428.5,-167.299 435.5,-167.299\"/>\r\n",
       "</g>\r\n",
       "<!-- 7 -->\r\n",
       "<g id=\"node4\" class=\"node\"><title>7</title>\r\n",
       "<polygon fill=\"none\" stroke=\"black\" points=\"112,-53 7.10543e-015,-53 7.10543e-015,-0 112,-0 112,-53\"/>\r\n",
       "<text text-anchor=\"middle\" x=\"56\" y=\"-37.8\" font-family=\"Times New Roman,serif\" font-size=\"14.00\">gini = 0.23</text>\r\n",
       "<text text-anchor=\"middle\" x=\"56\" y=\"-22.8\" font-family=\"Times New Roman,serif\" font-size=\"14.00\">samples = 85</text>\r\n",
       "<text text-anchor=\"middle\" x=\"56\" y=\"-7.8\" font-family=\"Times New Roman,serif\" font-size=\"14.00\">value = [2, 9, 74]</text>\r\n",
       "</g>\r\n",
       "<!-- 5&#45;&gt;7 -->\r\n",
       "<g id=\"edge3\" class=\"edge\"><title>5&#45;&gt;7</title>\r\n",
       "<path fill=\"none\" stroke=\"black\" d=\"M143.133,-88.9485C129.383,-79.2516 114.386,-68.6752 100.77,-59.073\"/>\r\n",
       "<polygon fill=\"black\" stroke=\"black\" points=\"102.684,-56.1397 92.4944,-53.2367 98.6495,-61.8603 102.684,-56.1397\"/>\r\n",
       "</g>\r\n",
       "<!-- 8 -->\r\n",
       "<g id=\"node5\" class=\"node\"><title>8</title>\r\n",
       "<polygon fill=\"none\" stroke=\"black\" points=\"249.5,-53 130.5,-53 130.5,-0 249.5,-0 249.5,-53\"/>\r\n",
       "<text text-anchor=\"middle\" x=\"190\" y=\"-37.8\" font-family=\"Times New Roman,serif\" font-size=\"14.00\">gini = 0.497</text>\r\n",
       "<text text-anchor=\"middle\" x=\"190\" y=\"-22.8\" font-family=\"Times New Roman,serif\" font-size=\"14.00\">samples = 81</text>\r\n",
       "<text text-anchor=\"middle\" x=\"190\" y=\"-7.8\" font-family=\"Times New Roman,serif\" font-size=\"14.00\">value = [1, 33, 47]</text>\r\n",
       "</g>\r\n",
       "<!-- 5&#45;&gt;8 -->\r\n",
       "<g id=\"edge4\" class=\"edge\"><title>5&#45;&gt;8</title>\r\n",
       "<path fill=\"none\" stroke=\"black\" d=\"M190,-88.9485C190,-80.7153 190,-71.848 190,-63.4814\"/>\r\n",
       "<polygon fill=\"black\" stroke=\"black\" points=\"193.5,-63.2367 190,-53.2367 186.5,-63.2367 193.5,-63.2367\"/>\r\n",
       "</g>\r\n",
       "<!-- 9 -->\r\n",
       "<g id=\"node7\" class=\"node\"><title>9</title>\r\n",
       "<polygon fill=\"none\" stroke=\"black\" points=\"400,-53 268,-53 268,-0 400,-0 400,-53\"/>\r\n",
       "<text text-anchor=\"middle\" x=\"334\" y=\"-37.8\" font-family=\"Times New Roman,serif\" font-size=\"14.00\">gini = 0.151</text>\r\n",
       "<text text-anchor=\"middle\" x=\"334\" y=\"-22.8\" font-family=\"Times New Roman,serif\" font-size=\"14.00\">samples = 710</text>\r\n",
       "<text text-anchor=\"middle\" x=\"334\" y=\"-7.8\" font-family=\"Times New Roman,serif\" font-size=\"14.00\">value = [27, 30, 653]</text>\r\n",
       "</g>\r\n",
       "<!-- 6&#45;&gt;9 -->\r\n",
       "<g id=\"edge6\" class=\"edge\"><title>6&#45;&gt;9</title>\r\n",
       "<path fill=\"none\" stroke=\"black\" d=\"M397.724,-88.9485C388.143,-79.709 377.733,-69.671 368.158,-60.4381\"/>\r\n",
       "<polygon fill=\"black\" stroke=\"black\" points=\"370.318,-57.6586 360.69,-53.2367 365.459,-62.6976 370.318,-57.6586\"/>\r\n",
       "</g>\r\n",
       "<!-- 10 -->\r\n",
       "<g id=\"node8\" class=\"node\"><title>10</title>\r\n",
       "<polygon fill=\"none\" stroke=\"black\" points=\"537.5,-53 418.5,-53 418.5,-0 537.5,-0 537.5,-53\"/>\r\n",
       "<text text-anchor=\"middle\" x=\"478\" y=\"-37.8\" font-family=\"Times New Roman,serif\" font-size=\"14.00\">gini = 0.483</text>\r\n",
       "<text text-anchor=\"middle\" x=\"478\" y=\"-22.8\" font-family=\"Times New Roman,serif\" font-size=\"14.00\">samples = 27</text>\r\n",
       "<text text-anchor=\"middle\" x=\"478\" y=\"-7.8\" font-family=\"Times New Roman,serif\" font-size=\"14.00\">value = [11, 0, 16]</text>\r\n",
       "</g>\r\n",
       "<!-- 6&#45;&gt;10 -->\r\n",
       "<g id=\"edge7\" class=\"edge\"><title>6&#45;&gt;10</title>\r\n",
       "<path fill=\"none\" stroke=\"black\" d=\"M448.089,-88.9485C452.274,-80.3494 456.797,-71.0586 461.027,-62.3689\"/>\r\n",
       "<polygon fill=\"black\" stroke=\"black\" points=\"464.242,-63.7599 465.472,-53.2367 457.948,-60.6962 464.242,-63.7599\"/>\r\n",
       "</g>\r\n",
       "<!-- 3 -->\r\n",
       "<g id=\"node10\" class=\"node\"><title>3</title>\r\n",
       "<polygon fill=\"none\" stroke=\"black\" points=\"738.5,-157 569.5,-157 569.5,-89 738.5,-89 738.5,-157\"/>\r\n",
       "<text text-anchor=\"middle\" x=\"654\" y=\"-141.8\" font-family=\"Times New Roman,serif\" font-size=\"14.00\">total sulfur dioxide &lt;= 15.5</text>\r\n",
       "<text text-anchor=\"middle\" x=\"654\" y=\"-126.8\" font-family=\"Times New Roman,serif\" font-size=\"14.00\">gini = 0.403</text>\r\n",
       "<text text-anchor=\"middle\" x=\"654\" y=\"-111.8\" font-family=\"Times New Roman,serif\" font-size=\"14.00\">samples = 86</text>\r\n",
       "<text text-anchor=\"middle\" x=\"654\" y=\"-96.8\" font-family=\"Times New Roman,serif\" font-size=\"14.00\">value = [2, 21, 63]</text>\r\n",
       "</g>\r\n",
       "<!-- 2&#45;&gt;3 -->\r\n",
       "<g id=\"edge9\" class=\"edge\"><title>2&#45;&gt;3</title>\r\n",
       "<path fill=\"none\" stroke=\"black\" d=\"M654,-192.884C654,-184.778 654,-175.982 654,-167.472\"/>\r\n",
       "<polygon fill=\"black\" stroke=\"black\" points=\"657.5,-167.299 654,-157.299 650.5,-167.299 657.5,-167.299\"/>\r\n",
       "</g>\r\n",
       "<!-- 4 -->\r\n",
       "<g id=\"node13\" class=\"node\"><title>4</title>\r\n",
       "<polygon fill=\"none\" stroke=\"black\" points=\"966,-157 800,-157 800,-89 966,-89 966,-157\"/>\r\n",
       "<text text-anchor=\"middle\" x=\"883\" y=\"-141.8\" font-family=\"Times New Roman,serif\" font-size=\"14.00\">free sulfur dioxide &lt;= 18.5</text>\r\n",
       "<text text-anchor=\"middle\" x=\"883\" y=\"-126.8\" font-family=\"Times New Roman,serif\" font-size=\"14.00\">gini = 0.433</text>\r\n",
       "<text text-anchor=\"middle\" x=\"883\" y=\"-111.8\" font-family=\"Times New Roman,serif\" font-size=\"14.00\">samples = 82</text>\r\n",
       "<text text-anchor=\"middle\" x=\"883\" y=\"-96.8\" font-family=\"Times New Roman,serif\" font-size=\"14.00\">value = [0, 56, 26]</text>\r\n",
       "</g>\r\n",
       "<!-- 2&#45;&gt;4 -->\r\n",
       "<g id=\"edge12\" class=\"edge\"><title>2&#45;&gt;4</title>\r\n",
       "<path fill=\"none\" stroke=\"black\" d=\"M715.669,-198.532C741.377,-187.081 771.636,-173.603 799.303,-161.28\"/>\r\n",
       "<polygon fill=\"black\" stroke=\"black\" points=\"800.865,-164.416 808.576,-157.15 798.017,-158.021 800.865,-164.416\"/>\r\n",
       "</g>\r\n",
       "<!-- 11 -->\r\n",
       "<g id=\"node11\" class=\"node\"><title>11</title>\r\n",
       "<polygon fill=\"none\" stroke=\"black\" points=\"668,-53 556,-53 556,-0 668,-0 668,-53\"/>\r\n",
       "<text text-anchor=\"middle\" x=\"612\" y=\"-37.8\" font-family=\"Times New Roman,serif\" font-size=\"14.00\">gini = 0.499</text>\r\n",
       "<text text-anchor=\"middle\" x=\"612\" y=\"-22.8\" font-family=\"Times New Roman,serif\" font-size=\"14.00\">samples = 19</text>\r\n",
       "<text text-anchor=\"middle\" x=\"612\" y=\"-7.8\" font-family=\"Times New Roman,serif\" font-size=\"14.00\">value = [0, 10, 9]</text>\r\n",
       "</g>\r\n",
       "<!-- 3&#45;&gt;11 -->\r\n",
       "<g id=\"edge10\" class=\"edge\"><title>3&#45;&gt;11</title>\r\n",
       "<path fill=\"none\" stroke=\"black\" d=\"M639.31,-88.9485C635.529,-80.4408 631.447,-71.2562 627.621,-62.6464\"/>\r\n",
       "<polygon fill=\"black\" stroke=\"black\" points=\"630.698,-60.9533 623.439,-53.2367 624.302,-63.7963 630.698,-60.9533\"/>\r\n",
       "</g>\r\n",
       "<!-- 12 -->\r\n",
       "<g id=\"node12\" class=\"node\"><title>12</title>\r\n",
       "<polygon fill=\"none\" stroke=\"black\" points=\"805.5,-53 686.5,-53 686.5,-0 805.5,-0 805.5,-53\"/>\r\n",
       "<text text-anchor=\"middle\" x=\"746\" y=\"-37.8\" font-family=\"Times New Roman,serif\" font-size=\"14.00\">gini = 0.323</text>\r\n",
       "<text text-anchor=\"middle\" x=\"746\" y=\"-22.8\" font-family=\"Times New Roman,serif\" font-size=\"14.00\">samples = 67</text>\r\n",
       "<text text-anchor=\"middle\" x=\"746\" y=\"-7.8\" font-family=\"Times New Roman,serif\" font-size=\"14.00\">value = [2, 11, 54]</text>\r\n",
       "</g>\r\n",
       "<!-- 3&#45;&gt;12 -->\r\n",
       "<g id=\"edge11\" class=\"edge\"><title>3&#45;&gt;12</title>\r\n",
       "<path fill=\"none\" stroke=\"black\" d=\"M686.177,-88.9485C695.172,-79.709 704.945,-69.671 713.933,-60.4381\"/>\r\n",
       "<polygon fill=\"black\" stroke=\"black\" points=\"716.476,-62.8434 720.944,-53.2367 711.461,-57.9605 716.476,-62.8434\"/>\r\n",
       "</g>\r\n",
       "<!-- 13 -->\r\n",
       "<g id=\"node14\" class=\"node\"><title>13</title>\r\n",
       "<polygon fill=\"none\" stroke=\"black\" points=\"942.5,-53 823.5,-53 823.5,-0 942.5,-0 942.5,-53\"/>\r\n",
       "<text text-anchor=\"middle\" x=\"883\" y=\"-37.8\" font-family=\"Times New Roman,serif\" font-size=\"14.00\">gini = 0.334</text>\r\n",
       "<text text-anchor=\"middle\" x=\"883\" y=\"-22.8\" font-family=\"Times New Roman,serif\" font-size=\"14.00\">samples = 52</text>\r\n",
       "<text text-anchor=\"middle\" x=\"883\" y=\"-7.8\" font-family=\"Times New Roman,serif\" font-size=\"14.00\">value = [0, 41, 11]</text>\r\n",
       "</g>\r\n",
       "<!-- 4&#45;&gt;13 -->\r\n",
       "<g id=\"edge13\" class=\"edge\"><title>4&#45;&gt;13</title>\r\n",
       "<path fill=\"none\" stroke=\"black\" d=\"M883,-88.9485C883,-80.7153 883,-71.848 883,-63.4814\"/>\r\n",
       "<polygon fill=\"black\" stroke=\"black\" points=\"886.5,-63.2367 883,-53.2367 879.5,-63.2367 886.5,-63.2367\"/>\r\n",
       "</g>\r\n",
       "<!-- 14 -->\r\n",
       "<g id=\"node15\" class=\"node\"><title>14</title>\r\n",
       "<polygon fill=\"none\" stroke=\"black\" points=\"1079.5,-53 960.5,-53 960.5,-0 1079.5,-0 1079.5,-53\"/>\r\n",
       "<text text-anchor=\"middle\" x=\"1020\" y=\"-37.8\" font-family=\"Times New Roman,serif\" font-size=\"14.00\">gini = 0.5</text>\r\n",
       "<text text-anchor=\"middle\" x=\"1020\" y=\"-22.8\" font-family=\"Times New Roman,serif\" font-size=\"14.00\">samples = 30</text>\r\n",
       "<text text-anchor=\"middle\" x=\"1020\" y=\"-7.8\" font-family=\"Times New Roman,serif\" font-size=\"14.00\">value = [0, 15, 15]</text>\r\n",
       "</g>\r\n",
       "<!-- 4&#45;&gt;14 -->\r\n",
       "<g id=\"edge14\" class=\"edge\"><title>4&#45;&gt;14</title>\r\n",
       "<path fill=\"none\" stroke=\"black\" d=\"M930.916,-88.9485C944.974,-79.2516 960.307,-68.6752 974.228,-59.073\"/>\r\n",
       "<polygon fill=\"black\" stroke=\"black\" points=\"976.444,-61.7959 982.689,-53.2367 972.47,-56.0337 976.444,-61.7959\"/>\r\n",
       "</g>\r\n",
       "</g>\r\n",
       "</svg>\r\n"
      ],
      "text/plain": [
       "<graphviz.files.Source at 0x1c52f650>"
      ]
     },
     "execution_count": 43,
     "metadata": {},
     "output_type": "execute_result"
    }
   ],
   "source": [
    "Source(tree.export_graphviz(data_quality, out_file=None, feature_names=X.columns))\n"
   ]
  },
  {
   "cell_type": "code",
   "execution_count": 44,
   "metadata": {},
   "outputs": [
    {
     "name": "stdout",
     "output_type": "stream",
     "text": [
      "['good' 'good' 'good' 'good' 'good' 'good' 'good' 'good' 'good' 'good']\n",
      "--------------------\n",
      "1144         good\n",
      "1532         good\n",
      "618          good\n",
      "205     excellent\n",
      "1384         good\n",
      "884          good\n",
      "523          good\n",
      "879          good\n",
      "791          good\n",
      "37      excellent\n",
      "Name: quality_label, dtype: object\n"
     ]
    }
   ],
   "source": [
    "#prediction on test data\n",
    "prediction = data_quality.predict(X_test)\n",
    "print(prediction[:10])\n",
    "print('-'*20)\n",
    "print(y_test['quality_label'][:10])"
   ]
  },
  {
   "cell_type": "code",
   "execution_count": 45,
   "metadata": {},
   "outputs": [],
   "source": [
    "data_read = export_text(data_quality, feature_names = ['fixed acidity','volatile acidity','citric acid','residual sugar','chlorides',\n",
    "            'free sulfur dioxide','total sulfur dioxide','density','pH','sulphates','alcohol'])"
   ]
  },
  {
   "cell_type": "code",
   "execution_count": 46,
   "metadata": {},
   "outputs": [
    {
     "name": "stdout",
     "output_type": "stream",
     "text": [
      "|--- alcohol <= 11.55\n",
      "|   |--- volatile acidity <= 0.38\n",
      "|   |   |--- alcohol <= 10.45\n",
      "|   |   |   |--- class: good\n",
      "|   |   |--- alcohol >  10.45\n",
      "|   |   |   |--- class: good\n",
      "|   |--- volatile acidity >  0.38\n",
      "|   |   |--- volatile acidity <= 0.91\n",
      "|   |   |   |--- class: good\n",
      "|   |   |--- volatile acidity >  0.91\n",
      "|   |   |   |--- class: good\n",
      "|--- alcohol >  11.55\n",
      "|   |--- sulphates <= 0.69\n",
      "|   |   |--- total sulfur dioxide <= 15.50\n",
      "|   |   |   |--- class: excellent\n",
      "|   |   |--- total sulfur dioxide >  15.50\n",
      "|   |   |   |--- class: good\n",
      "|   |--- sulphates >  0.69\n",
      "|   |   |--- free sulfur dioxide <= 18.50\n",
      "|   |   |   |--- class: excellent\n",
      "|   |   |--- free sulfur dioxide >  18.50\n",
      "|   |   |   |--- class: excellent\n",
      "\n"
     ]
    }
   ],
   "source": [
    "print(data_read)"
   ]
  },
  {
   "cell_type": "code",
   "execution_count": 47,
   "metadata": {},
   "outputs": [
    {
     "data": {
      "text/plain": [
       "0.8503787878787878"
      ]
     },
     "execution_count": 47,
     "metadata": {},
     "output_type": "execute_result"
    }
   ],
   "source": [
    "#measure the accuracy\n",
    "accuracy_score(y_true=y_test, y_pred=prediction)"
   ]
  },
  {
   "cell_type": "code",
   "execution_count": 48,
   "metadata": {},
   "outputs": [],
   "source": [
    "#Logistic regression\n",
    "from sklearn.linear_model import LogisticRegression"
   ]
  },
  {
   "cell_type": "code",
   "execution_count": 49,
   "metadata": {},
   "outputs": [
    {
     "data": {
      "text/html": [
       "<div>\n",
       "<style scoped>\n",
       "    .dataframe tbody tr th:only-of-type {\n",
       "        vertical-align: middle;\n",
       "    }\n",
       "\n",
       "    .dataframe tbody tr th {\n",
       "        vertical-align: top;\n",
       "    }\n",
       "\n",
       "    .dataframe thead th {\n",
       "        text-align: right;\n",
       "    }\n",
       "</style>\n",
       "<table border=\"1\" class=\"dataframe\">\n",
       "  <thead>\n",
       "    <tr style=\"text-align: right;\">\n",
       "      <th></th>\n",
       "      <th>fixed acidity</th>\n",
       "      <th>volatile acidity</th>\n",
       "      <th>citric acid</th>\n",
       "      <th>residual sugar</th>\n",
       "      <th>chlorides</th>\n",
       "      <th>free sulfur dioxide</th>\n",
       "      <th>total sulfur dioxide</th>\n",
       "      <th>density</th>\n",
       "      <th>pH</th>\n",
       "      <th>sulphates</th>\n",
       "      <th>alcohol</th>\n",
       "      <th>quality</th>\n",
       "      <th>quality_label</th>\n",
       "    </tr>\n",
       "  </thead>\n",
       "  <tbody>\n",
       "    <tr>\n",
       "      <th>0</th>\n",
       "      <td>7.4</td>\n",
       "      <td>0.70</td>\n",
       "      <td>0.00</td>\n",
       "      <td>1.9</td>\n",
       "      <td>0.076</td>\n",
       "      <td>11.0</td>\n",
       "      <td>34.0</td>\n",
       "      <td>0.9978</td>\n",
       "      <td>3.51</td>\n",
       "      <td>0.56</td>\n",
       "      <td>9.4</td>\n",
       "      <td>5</td>\n",
       "      <td>good</td>\n",
       "    </tr>\n",
       "    <tr>\n",
       "      <th>1</th>\n",
       "      <td>7.8</td>\n",
       "      <td>0.88</td>\n",
       "      <td>0.00</td>\n",
       "      <td>2.6</td>\n",
       "      <td>0.098</td>\n",
       "      <td>25.0</td>\n",
       "      <td>67.0</td>\n",
       "      <td>0.9968</td>\n",
       "      <td>3.20</td>\n",
       "      <td>0.68</td>\n",
       "      <td>9.8</td>\n",
       "      <td>5</td>\n",
       "      <td>good</td>\n",
       "    </tr>\n",
       "    <tr>\n",
       "      <th>2</th>\n",
       "      <td>7.8</td>\n",
       "      <td>0.76</td>\n",
       "      <td>0.04</td>\n",
       "      <td>2.3</td>\n",
       "      <td>0.092</td>\n",
       "      <td>15.0</td>\n",
       "      <td>54.0</td>\n",
       "      <td>0.9970</td>\n",
       "      <td>3.26</td>\n",
       "      <td>0.65</td>\n",
       "      <td>9.8</td>\n",
       "      <td>5</td>\n",
       "      <td>good</td>\n",
       "    </tr>\n",
       "    <tr>\n",
       "      <th>3</th>\n",
       "      <td>11.2</td>\n",
       "      <td>0.28</td>\n",
       "      <td>0.56</td>\n",
       "      <td>1.9</td>\n",
       "      <td>0.075</td>\n",
       "      <td>17.0</td>\n",
       "      <td>60.0</td>\n",
       "      <td>0.9980</td>\n",
       "      <td>3.16</td>\n",
       "      <td>0.58</td>\n",
       "      <td>9.8</td>\n",
       "      <td>6</td>\n",
       "      <td>good</td>\n",
       "    </tr>\n",
       "    <tr>\n",
       "      <th>4</th>\n",
       "      <td>7.4</td>\n",
       "      <td>0.70</td>\n",
       "      <td>0.00</td>\n",
       "      <td>1.9</td>\n",
       "      <td>0.076</td>\n",
       "      <td>11.0</td>\n",
       "      <td>34.0</td>\n",
       "      <td>0.9978</td>\n",
       "      <td>3.51</td>\n",
       "      <td>0.56</td>\n",
       "      <td>9.4</td>\n",
       "      <td>5</td>\n",
       "      <td>good</td>\n",
       "    </tr>\n",
       "  </tbody>\n",
       "</table>\n",
       "</div>"
      ],
      "text/plain": [
       "   fixed acidity  volatile acidity  citric acid  residual sugar  chlorides  \\\n",
       "0            7.4              0.70         0.00             1.9      0.076   \n",
       "1            7.8              0.88         0.00             2.6      0.098   \n",
       "2            7.8              0.76         0.04             2.3      0.092   \n",
       "3           11.2              0.28         0.56             1.9      0.075   \n",
       "4            7.4              0.70         0.00             1.9      0.076   \n",
       "\n",
       "   free sulfur dioxide  total sulfur dioxide  density    pH  sulphates  \\\n",
       "0                 11.0                  34.0   0.9978  3.51       0.56   \n",
       "1                 25.0                  67.0   0.9968  3.20       0.68   \n",
       "2                 15.0                  54.0   0.9970  3.26       0.65   \n",
       "3                 17.0                  60.0   0.9980  3.16       0.58   \n",
       "4                 11.0                  34.0   0.9978  3.51       0.56   \n",
       "\n",
       "   alcohol  quality quality_label  \n",
       "0      9.4        5          good  \n",
       "1      9.8        5          good  \n",
       "2      9.8        5          good  \n",
       "3      9.8        6          good  \n",
       "4      9.4        5          good  "
      ]
     },
     "execution_count": 49,
     "metadata": {},
     "output_type": "execute_result"
    }
   ],
   "source": [
    "data.head()"
   ]
  },
  {
   "cell_type": "code",
   "execution_count": 50,
   "metadata": {},
   "outputs": [],
   "source": [
    "features = ['fixed acidity','volatile acidity','citric acid','residual sugar','chlorides',\n",
    "            'free sulfur dioxide','total sulfur dioxide','density','pH','sulphates','alcohol']\n",
    "target_classifier = ['quality_label']"
   ]
  },
  {
   "cell_type": "code",
   "execution_count": 51,
   "metadata": {},
   "outputs": [],
   "source": [
    "X = data[features]\n",
    "y = data[target_classifier]"
   ]
  },
  {
   "cell_type": "code",
   "execution_count": 52,
   "metadata": {},
   "outputs": [],
   "source": [
    "X_train, X_test, y_train, y_test = train_test_split(X, y, test_size=0.33, random_state=324)"
   ]
  },
  {
   "cell_type": "code",
   "execution_count": 53,
   "metadata": {},
   "outputs": [
    {
     "data": {
      "text/plain": [
       "LogisticRegression(C=1.0, class_weight=None, dual=False, fit_intercept=True,\n",
       "                   intercept_scaling=1, l1_ratio=None, max_iter=100,\n",
       "                   multi_class='warn', n_jobs=None, penalty='l2',\n",
       "                   random_state=None, solver='warn', tol=0.0001, verbose=0,\n",
       "                   warm_start=False)"
      ]
     },
     "execution_count": 53,
     "metadata": {},
     "output_type": "execute_result"
    }
   ],
   "source": [
    "logistic_regression = LogisticRegression()\n",
    "logistic_regression.fit(X_train, y_train)"
   ]
  },
  {
   "cell_type": "code",
   "execution_count": 54,
   "metadata": {},
   "outputs": [
    {
     "name": "stdout",
     "output_type": "stream",
     "text": [
      "['good' 'good' 'good' 'good' 'good' 'good' 'good' 'good' 'good' 'good']\n",
      "     quality_label\n",
      "1144          good\n",
      "1532          good\n",
      "618           good\n",
      "205      excellent\n",
      "1384          good\n",
      "884           good\n",
      "523           good\n",
      "879           good\n",
      "791           good\n",
      "37       excellent\n"
     ]
    }
   ],
   "source": [
    "prediction = logistic_regression.predict(X_test)\n",
    "print(prediction[:10])\n",
    "print(y_test[:10])"
   ]
  },
  {
   "cell_type": "code",
   "execution_count": 55,
   "metadata": {},
   "outputs": [
    {
     "data": {
      "text/plain": [
       "0.8390151515151515"
      ]
     },
     "execution_count": 55,
     "metadata": {},
     "output_type": "execute_result"
    }
   ],
   "source": [
    "#measure the accuracy\n",
    "accuracy_score(y_true=y_test, y_pred=prediction)"
   ]
  },
  {
   "cell_type": "code",
   "execution_count": null,
   "metadata": {},
   "outputs": [],
   "source": []
  },
  {
   "cell_type": "code",
   "execution_count": null,
   "metadata": {},
   "outputs": [],
   "source": []
  }
 ],
 "metadata": {
  "kernelspec": {
   "display_name": "Python 3",
   "language": "python",
   "name": "python3"
  },
  "language_info": {
   "codemirror_mode": {
    "name": "ipython",
    "version": 3
   },
   "file_extension": ".py",
   "mimetype": "text/x-python",
   "name": "python",
   "nbconvert_exporter": "python",
   "pygments_lexer": "ipython3",
   "version": "3.7.2"
  }
 },
 "nbformat": 4,
 "nbformat_minor": 2
}
